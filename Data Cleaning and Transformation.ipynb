{
 "cells": [
  {
   "cell_type": "code",
   "execution_count": 1,
   "id": "5bca9a17",
   "metadata": {},
   "outputs": [],
   "source": [
    "import pandas as pd\n",
    "import numpy as np\n"
   ]
  },
  {
   "cell_type": "markdown",
   "id": "5475a55f",
   "metadata": {},
   "source": [
    "## Students Dataset"
   ]
  },
  {
   "cell_type": "code",
   "execution_count": 2,
   "id": "acb31206",
   "metadata": {},
   "outputs": [],
   "source": [
    "df_students_raw = pd.read_csv(\"01 student_results.csv\")"
   ]
  },
  {
   "cell_type": "code",
   "execution_count": 3,
   "id": "7b9768fb",
   "metadata": {},
   "outputs": [
    {
     "data": {
      "text/html": [
       "<div>\n",
       "<style scoped>\n",
       "    .dataframe tbody tr th:only-of-type {\n",
       "        vertical-align: middle;\n",
       "    }\n",
       "\n",
       "    .dataframe tbody tr th {\n",
       "        vertical-align: top;\n",
       "    }\n",
       "\n",
       "    .dataframe thead th {\n",
       "        text-align: right;\n",
       "    }\n",
       "</style>\n",
       "<table border=\"1\" class=\"dataframe\">\n",
       "  <thead>\n",
       "    <tr style=\"text-align: right;\">\n",
       "      <th></th>\n",
       "      <th>id</th>\n",
       "      <th>name</th>\n",
       "      <th>phone</th>\n",
       "      <th>sex and age</th>\n",
       "      <th>test number</th>\n",
       "      <th>term 1</th>\n",
       "      <th>term 2</th>\n",
       "      <th>term 3</th>\n",
       "    </tr>\n",
       "  </thead>\n",
       "  <tbody>\n",
       "    <tr>\n",
       "      <th>0</th>\n",
       "      <td>1</td>\n",
       "      <td>Mike</td>\n",
       "      <td>134</td>\n",
       "      <td>m_12</td>\n",
       "      <td>test 1</td>\n",
       "      <td>76</td>\n",
       "      <td>84</td>\n",
       "      <td>87</td>\n",
       "    </tr>\n",
       "    <tr>\n",
       "      <th>1</th>\n",
       "      <td>2</td>\n",
       "      <td>Linda</td>\n",
       "      <td>270</td>\n",
       "      <td>f_13</td>\n",
       "      <td>test 1</td>\n",
       "      <td>88</td>\n",
       "      <td>90</td>\n",
       "      <td>73</td>\n",
       "    </tr>\n",
       "    <tr>\n",
       "      <th>2</th>\n",
       "      <td>3</td>\n",
       "      <td>Sam</td>\n",
       "      <td>210</td>\n",
       "      <td>m_11</td>\n",
       "      <td>test 1</td>\n",
       "      <td>78</td>\n",
       "      <td>74</td>\n",
       "      <td>80</td>\n",
       "    </tr>\n",
       "    <tr>\n",
       "      <th>3</th>\n",
       "      <td>4</td>\n",
       "      <td>Esther</td>\n",
       "      <td>617</td>\n",
       "      <td>f_12</td>\n",
       "      <td>test 1</td>\n",
       "      <td>68</td>\n",
       "      <td>75</td>\n",
       "      <td>74</td>\n",
       "    </tr>\n",
       "    <tr>\n",
       "      <th>4</th>\n",
       "      <td>5</td>\n",
       "      <td>Mary</td>\n",
       "      <td>114</td>\n",
       "      <td>f_14</td>\n",
       "      <td>test 1</td>\n",
       "      <td>65</td>\n",
       "      <td>67</td>\n",
       "      <td>64</td>\n",
       "    </tr>\n",
       "  </tbody>\n",
       "</table>\n",
       "</div>"
      ],
      "text/plain": [
       "   id    name  phone sex and age test number  term 1  term 2  term 3\n",
       "0   1    Mike    134        m_12      test 1      76      84      87\n",
       "1   2   Linda    270        f_13      test 1      88      90      73\n",
       "2   3     Sam    210        m_11      test 1      78      74      80\n",
       "3   4  Esther    617        f_12      test 1      68      75      74\n",
       "4   5    Mary    114        f_14      test 1      65      67      64"
      ]
     },
     "execution_count": 3,
     "metadata": {},
     "output_type": "execute_result"
    }
   ],
   "source": [
    "df_students_raw.head()"
   ]
  },
  {
   "cell_type": "code",
   "execution_count": 4,
   "id": "423c6843",
   "metadata": {},
   "outputs": [
    {
     "data": {
      "text/plain": [
       "(10, 8)"
      ]
     },
     "execution_count": 4,
     "metadata": {},
     "output_type": "execute_result"
    }
   ],
   "source": [
    "df_students_raw.shape"
   ]
  },
  {
   "cell_type": "code",
   "execution_count": 5,
   "id": "61fdd334",
   "metadata": {},
   "outputs": [
    {
     "data": {
      "text/plain": [
       "id              int64\n",
       "name           object\n",
       "phone           int64\n",
       "sex and age    object\n",
       "test number    object\n",
       "term 1          int64\n",
       "term 2          int64\n",
       "term 3          int64\n",
       "dtype: object"
      ]
     },
     "execution_count": 5,
     "metadata": {},
     "output_type": "execute_result"
    }
   ],
   "source": [
    "df_students_raw.dtypes"
   ]
  },
  {
   "cell_type": "code",
   "execution_count": 6,
   "id": "466e23b4",
   "metadata": {},
   "outputs": [
    {
     "data": {
      "text/html": [
       "<div>\n",
       "<style scoped>\n",
       "    .dataframe tbody tr th:only-of-type {\n",
       "        vertical-align: middle;\n",
       "    }\n",
       "\n",
       "    .dataframe tbody tr th {\n",
       "        vertical-align: top;\n",
       "    }\n",
       "\n",
       "    .dataframe thead th {\n",
       "        text-align: right;\n",
       "    }\n",
       "</style>\n",
       "<table border=\"1\" class=\"dataframe\">\n",
       "  <thead>\n",
       "    <tr style=\"text-align: right;\">\n",
       "      <th></th>\n",
       "      <th>id</th>\n",
       "      <th>phone</th>\n",
       "      <th>term 1</th>\n",
       "      <th>term 2</th>\n",
       "      <th>term 3</th>\n",
       "    </tr>\n",
       "  </thead>\n",
       "  <tbody>\n",
       "    <tr>\n",
       "      <th>count</th>\n",
       "      <td>10.000000</td>\n",
       "      <td>10.00000</td>\n",
       "      <td>10.000000</td>\n",
       "      <td>10.000000</td>\n",
       "      <td>10.000000</td>\n",
       "    </tr>\n",
       "    <tr>\n",
       "      <th>mean</th>\n",
       "      <td>3.000000</td>\n",
       "      <td>269.00000</td>\n",
       "      <td>76.500000</td>\n",
       "      <td>78.400000</td>\n",
       "      <td>78.300000</td>\n",
       "    </tr>\n",
       "    <tr>\n",
       "      <th>std</th>\n",
       "      <td>1.490712</td>\n",
       "      <td>192.54783</td>\n",
       "      <td>8.488554</td>\n",
       "      <td>7.441625</td>\n",
       "      <td>10.274564</td>\n",
       "    </tr>\n",
       "    <tr>\n",
       "      <th>min</th>\n",
       "      <td>1.000000</td>\n",
       "      <td>114.00000</td>\n",
       "      <td>65.000000</td>\n",
       "      <td>67.000000</td>\n",
       "      <td>63.000000</td>\n",
       "    </tr>\n",
       "    <tr>\n",
       "      <th>25%</th>\n",
       "      <td>2.000000</td>\n",
       "      <td>134.00000</td>\n",
       "      <td>68.500000</td>\n",
       "      <td>74.250000</td>\n",
       "      <td>73.250000</td>\n",
       "    </tr>\n",
       "    <tr>\n",
       "      <th>50%</th>\n",
       "      <td>3.000000</td>\n",
       "      <td>210.00000</td>\n",
       "      <td>77.000000</td>\n",
       "      <td>77.500000</td>\n",
       "      <td>79.000000</td>\n",
       "    </tr>\n",
       "    <tr>\n",
       "      <th>75%</th>\n",
       "      <td>4.000000</td>\n",
       "      <td>270.00000</td>\n",
       "      <td>83.750000</td>\n",
       "      <td>83.500000</td>\n",
       "      <td>85.250000</td>\n",
       "    </tr>\n",
       "    <tr>\n",
       "      <th>max</th>\n",
       "      <td>5.000000</td>\n",
       "      <td>617.00000</td>\n",
       "      <td>88.000000</td>\n",
       "      <td>90.000000</td>\n",
       "      <td>94.000000</td>\n",
       "    </tr>\n",
       "  </tbody>\n",
       "</table>\n",
       "</div>"
      ],
      "text/plain": [
       "              id      phone     term 1     term 2     term 3\n",
       "count  10.000000   10.00000  10.000000  10.000000  10.000000\n",
       "mean    3.000000  269.00000  76.500000  78.400000  78.300000\n",
       "std     1.490712  192.54783   8.488554   7.441625  10.274564\n",
       "min     1.000000  114.00000  65.000000  67.000000  63.000000\n",
       "25%     2.000000  134.00000  68.500000  74.250000  73.250000\n",
       "50%     3.000000  210.00000  77.000000  77.500000  79.000000\n",
       "75%     4.000000  270.00000  83.750000  83.500000  85.250000\n",
       "max     5.000000  617.00000  88.000000  90.000000  94.000000"
      ]
     },
     "execution_count": 6,
     "metadata": {},
     "output_type": "execute_result"
    }
   ],
   "source": [
    "df_students_raw.describe()"
   ]
  },
  {
   "cell_type": "code",
   "execution_count": 7,
   "id": "88fba04b",
   "metadata": {},
   "outputs": [
    {
     "data": {
      "text/plain": [
       "id             0\n",
       "name           0\n",
       "phone          0\n",
       "sex and age    0\n",
       "test number    0\n",
       "term 1         0\n",
       "term 2         0\n",
       "term 3         0\n",
       "dtype: int64"
      ]
     },
     "execution_count": 7,
     "metadata": {},
     "output_type": "execute_result"
    }
   ],
   "source": [
    "df_students_raw.isnull().sum()"
   ]
  },
  {
   "cell_type": "markdown",
   "id": "3322a3fa",
   "metadata": {},
   "source": [
    " *  There are no null values in the data"
   ]
  },
  {
   "cell_type": "markdown",
   "id": "365490e7",
   "metadata": {},
   "source": [
    " *  The sex and age columns are combined. We will split it into 2 columns"
   ]
  },
  {
   "cell_type": "code",
   "execution_count": 8,
   "id": "a9b4c1dc",
   "metadata": {},
   "outputs": [],
   "source": [
    "df_students_raw[\"sex\"] = df_students_raw[\"sex and age\"].str.split(\"_\").str[0]\n",
    "df_students_raw[\"age\"] = df_students_raw[\"sex and age\"].str.split(\"_\").str[1]"
   ]
  },
  {
   "cell_type": "code",
   "execution_count": 9,
   "id": "c4cbc97d",
   "metadata": {
    "scrolled": true
   },
   "outputs": [
    {
     "data": {
      "text/html": [
       "<div>\n",
       "<style scoped>\n",
       "    .dataframe tbody tr th:only-of-type {\n",
       "        vertical-align: middle;\n",
       "    }\n",
       "\n",
       "    .dataframe tbody tr th {\n",
       "        vertical-align: top;\n",
       "    }\n",
       "\n",
       "    .dataframe thead th {\n",
       "        text-align: right;\n",
       "    }\n",
       "</style>\n",
       "<table border=\"1\" class=\"dataframe\">\n",
       "  <thead>\n",
       "    <tr style=\"text-align: right;\">\n",
       "      <th></th>\n",
       "      <th>id</th>\n",
       "      <th>name</th>\n",
       "      <th>phone</th>\n",
       "      <th>sex and age</th>\n",
       "      <th>test number</th>\n",
       "      <th>term 1</th>\n",
       "      <th>term 2</th>\n",
       "      <th>term 3</th>\n",
       "      <th>sex</th>\n",
       "      <th>age</th>\n",
       "    </tr>\n",
       "  </thead>\n",
       "  <tbody>\n",
       "    <tr>\n",
       "      <th>0</th>\n",
       "      <td>1</td>\n",
       "      <td>Mike</td>\n",
       "      <td>134</td>\n",
       "      <td>m_12</td>\n",
       "      <td>test 1</td>\n",
       "      <td>76</td>\n",
       "      <td>84</td>\n",
       "      <td>87</td>\n",
       "      <td>m</td>\n",
       "      <td>12</td>\n",
       "    </tr>\n",
       "    <tr>\n",
       "      <th>1</th>\n",
       "      <td>2</td>\n",
       "      <td>Linda</td>\n",
       "      <td>270</td>\n",
       "      <td>f_13</td>\n",
       "      <td>test 1</td>\n",
       "      <td>88</td>\n",
       "      <td>90</td>\n",
       "      <td>73</td>\n",
       "      <td>f</td>\n",
       "      <td>13</td>\n",
       "    </tr>\n",
       "    <tr>\n",
       "      <th>2</th>\n",
       "      <td>3</td>\n",
       "      <td>Sam</td>\n",
       "      <td>210</td>\n",
       "      <td>m_11</td>\n",
       "      <td>test 1</td>\n",
       "      <td>78</td>\n",
       "      <td>74</td>\n",
       "      <td>80</td>\n",
       "      <td>m</td>\n",
       "      <td>11</td>\n",
       "    </tr>\n",
       "    <tr>\n",
       "      <th>3</th>\n",
       "      <td>4</td>\n",
       "      <td>Esther</td>\n",
       "      <td>617</td>\n",
       "      <td>f_12</td>\n",
       "      <td>test 1</td>\n",
       "      <td>68</td>\n",
       "      <td>75</td>\n",
       "      <td>74</td>\n",
       "      <td>f</td>\n",
       "      <td>12</td>\n",
       "    </tr>\n",
       "    <tr>\n",
       "      <th>4</th>\n",
       "      <td>5</td>\n",
       "      <td>Mary</td>\n",
       "      <td>114</td>\n",
       "      <td>f_14</td>\n",
       "      <td>test 1</td>\n",
       "      <td>65</td>\n",
       "      <td>67</td>\n",
       "      <td>64</td>\n",
       "      <td>f</td>\n",
       "      <td>14</td>\n",
       "    </tr>\n",
       "  </tbody>\n",
       "</table>\n",
       "</div>"
      ],
      "text/plain": [
       "   id    name  phone sex and age test number  term 1  term 2  term 3 sex age\n",
       "0   1    Mike    134        m_12      test 1      76      84      87   m  12\n",
       "1   2   Linda    270        f_13      test 1      88      90      73   f  13\n",
       "2   3     Sam    210        m_11      test 1      78      74      80   m  11\n",
       "3   4  Esther    617        f_12      test 1      68      75      74   f  12\n",
       "4   5    Mary    114        f_14      test 1      65      67      64   f  14"
      ]
     },
     "execution_count": 9,
     "metadata": {},
     "output_type": "execute_result"
    }
   ],
   "source": [
    "df_students_raw.head()"
   ]
  },
  {
   "cell_type": "code",
   "execution_count": 10,
   "id": "dffc99ab",
   "metadata": {},
   "outputs": [],
   "source": [
    "del df_students_raw[\"sex and age\"]"
   ]
  },
  {
   "cell_type": "code",
   "execution_count": 11,
   "id": "2c758f37",
   "metadata": {},
   "outputs": [],
   "source": [
    "## Re-Order the columns\n",
    "df_students_raw = df_students_raw[['id', 'name', 'sex', 'age', 'phone', 'test number', 'term 1', 'term 2', 'term 3']] \n"
   ]
  },
  {
   "cell_type": "code",
   "execution_count": 12,
   "id": "e084a0a4",
   "metadata": {},
   "outputs": [
    {
     "data": {
      "text/html": [
       "<div>\n",
       "<style scoped>\n",
       "    .dataframe tbody tr th:only-of-type {\n",
       "        vertical-align: middle;\n",
       "    }\n",
       "\n",
       "    .dataframe tbody tr th {\n",
       "        vertical-align: top;\n",
       "    }\n",
       "\n",
       "    .dataframe thead th {\n",
       "        text-align: right;\n",
       "    }\n",
       "</style>\n",
       "<table border=\"1\" class=\"dataframe\">\n",
       "  <thead>\n",
       "    <tr style=\"text-align: right;\">\n",
       "      <th></th>\n",
       "      <th>id</th>\n",
       "      <th>name</th>\n",
       "      <th>sex</th>\n",
       "      <th>age</th>\n",
       "      <th>phone</th>\n",
       "      <th>test number</th>\n",
       "      <th>term 1</th>\n",
       "      <th>term 2</th>\n",
       "      <th>term 3</th>\n",
       "    </tr>\n",
       "  </thead>\n",
       "  <tbody>\n",
       "    <tr>\n",
       "      <th>0</th>\n",
       "      <td>1</td>\n",
       "      <td>Mike</td>\n",
       "      <td>m</td>\n",
       "      <td>12</td>\n",
       "      <td>134</td>\n",
       "      <td>test 1</td>\n",
       "      <td>76</td>\n",
       "      <td>84</td>\n",
       "      <td>87</td>\n",
       "    </tr>\n",
       "    <tr>\n",
       "      <th>1</th>\n",
       "      <td>2</td>\n",
       "      <td>Linda</td>\n",
       "      <td>f</td>\n",
       "      <td>13</td>\n",
       "      <td>270</td>\n",
       "      <td>test 1</td>\n",
       "      <td>88</td>\n",
       "      <td>90</td>\n",
       "      <td>73</td>\n",
       "    </tr>\n",
       "    <tr>\n",
       "      <th>2</th>\n",
       "      <td>3</td>\n",
       "      <td>Sam</td>\n",
       "      <td>m</td>\n",
       "      <td>11</td>\n",
       "      <td>210</td>\n",
       "      <td>test 1</td>\n",
       "      <td>78</td>\n",
       "      <td>74</td>\n",
       "      <td>80</td>\n",
       "    </tr>\n",
       "    <tr>\n",
       "      <th>3</th>\n",
       "      <td>4</td>\n",
       "      <td>Esther</td>\n",
       "      <td>f</td>\n",
       "      <td>12</td>\n",
       "      <td>617</td>\n",
       "      <td>test 1</td>\n",
       "      <td>68</td>\n",
       "      <td>75</td>\n",
       "      <td>74</td>\n",
       "    </tr>\n",
       "    <tr>\n",
       "      <th>4</th>\n",
       "      <td>5</td>\n",
       "      <td>Mary</td>\n",
       "      <td>f</td>\n",
       "      <td>14</td>\n",
       "      <td>114</td>\n",
       "      <td>test 1</td>\n",
       "      <td>65</td>\n",
       "      <td>67</td>\n",
       "      <td>64</td>\n",
       "    </tr>\n",
       "  </tbody>\n",
       "</table>\n",
       "</div>"
      ],
      "text/plain": [
       "   id    name sex age  phone test number  term 1  term 2  term 3\n",
       "0   1    Mike   m  12    134      test 1      76      84      87\n",
       "1   2   Linda   f  13    270      test 1      88      90      73\n",
       "2   3     Sam   m  11    210      test 1      78      74      80\n",
       "3   4  Esther   f  12    617      test 1      68      75      74\n",
       "4   5    Mary   f  14    114      test 1      65      67      64"
      ]
     },
     "execution_count": 12,
     "metadata": {},
     "output_type": "execute_result"
    }
   ],
   "source": [
    "df_students_raw.head()"
   ]
  },
  {
   "cell_type": "code",
   "execution_count": 13,
   "id": "b1b01573",
   "metadata": {},
   "outputs": [],
   "source": [
    "\n",
    "df_students_long =  pd.melt(df_students_raw, id_vars=['id', 'name', 'sex', 'age', 'phone', 'test number']\n",
    "        , value_vars=['term 1', 'term 2', 'term 3'])"
   ]
  },
  {
   "cell_type": "code",
   "execution_count": 14,
   "id": "2320a581",
   "metadata": {},
   "outputs": [
    {
     "data": {
      "text/html": [
       "<div>\n",
       "<style scoped>\n",
       "    .dataframe tbody tr th:only-of-type {\n",
       "        vertical-align: middle;\n",
       "    }\n",
       "\n",
       "    .dataframe tbody tr th {\n",
       "        vertical-align: top;\n",
       "    }\n",
       "\n",
       "    .dataframe thead th {\n",
       "        text-align: right;\n",
       "    }\n",
       "</style>\n",
       "<table border=\"1\" class=\"dataframe\">\n",
       "  <thead>\n",
       "    <tr style=\"text-align: right;\">\n",
       "      <th></th>\n",
       "      <th>id</th>\n",
       "      <th>name</th>\n",
       "      <th>sex</th>\n",
       "      <th>age</th>\n",
       "      <th>phone</th>\n",
       "      <th>test number</th>\n",
       "      <th>variable</th>\n",
       "      <th>value</th>\n",
       "    </tr>\n",
       "  </thead>\n",
       "  <tbody>\n",
       "    <tr>\n",
       "      <th>0</th>\n",
       "      <td>1</td>\n",
       "      <td>Mike</td>\n",
       "      <td>m</td>\n",
       "      <td>12</td>\n",
       "      <td>134</td>\n",
       "      <td>test 1</td>\n",
       "      <td>term 1</td>\n",
       "      <td>76</td>\n",
       "    </tr>\n",
       "    <tr>\n",
       "      <th>1</th>\n",
       "      <td>2</td>\n",
       "      <td>Linda</td>\n",
       "      <td>f</td>\n",
       "      <td>13</td>\n",
       "      <td>270</td>\n",
       "      <td>test 1</td>\n",
       "      <td>term 1</td>\n",
       "      <td>88</td>\n",
       "    </tr>\n",
       "    <tr>\n",
       "      <th>2</th>\n",
       "      <td>3</td>\n",
       "      <td>Sam</td>\n",
       "      <td>m</td>\n",
       "      <td>11</td>\n",
       "      <td>210</td>\n",
       "      <td>test 1</td>\n",
       "      <td>term 1</td>\n",
       "      <td>78</td>\n",
       "    </tr>\n",
       "    <tr>\n",
       "      <th>3</th>\n",
       "      <td>4</td>\n",
       "      <td>Esther</td>\n",
       "      <td>f</td>\n",
       "      <td>12</td>\n",
       "      <td>617</td>\n",
       "      <td>test 1</td>\n",
       "      <td>term 1</td>\n",
       "      <td>68</td>\n",
       "    </tr>\n",
       "    <tr>\n",
       "      <th>4</th>\n",
       "      <td>5</td>\n",
       "      <td>Mary</td>\n",
       "      <td>f</td>\n",
       "      <td>14</td>\n",
       "      <td>114</td>\n",
       "      <td>test 1</td>\n",
       "      <td>term 1</td>\n",
       "      <td>65</td>\n",
       "    </tr>\n",
       "  </tbody>\n",
       "</table>\n",
       "</div>"
      ],
      "text/plain": [
       "   id    name sex age  phone test number variable  value\n",
       "0   1    Mike   m  12    134      test 1   term 1     76\n",
       "1   2   Linda   f  13    270      test 1   term 1     88\n",
       "2   3     Sam   m  11    210      test 1   term 1     78\n",
       "3   4  Esther   f  12    617      test 1   term 1     68\n",
       "4   5    Mary   f  14    114      test 1   term 1     65"
      ]
     },
     "execution_count": 14,
     "metadata": {},
     "output_type": "execute_result"
    }
   ],
   "source": [
    "df_students_long.head()"
   ]
  },
  {
   "cell_type": "code",
   "execution_count": 15,
   "id": "c252a98a",
   "metadata": {
    "scrolled": true
   },
   "outputs": [],
   "source": [
    "### Renaming the columns\n",
    "df_students_long = df_students_long.rename(columns = {\"variable\" : \"term\", \"value\" : \"marks\"})"
   ]
  },
  {
   "cell_type": "code",
   "execution_count": 16,
   "id": "1b12b0a6",
   "metadata": {},
   "outputs": [
    {
     "data": {
      "text/html": [
       "<div>\n",
       "<style scoped>\n",
       "    .dataframe tbody tr th:only-of-type {\n",
       "        vertical-align: middle;\n",
       "    }\n",
       "\n",
       "    .dataframe tbody tr th {\n",
       "        vertical-align: top;\n",
       "    }\n",
       "\n",
       "    .dataframe thead th {\n",
       "        text-align: right;\n",
       "    }\n",
       "</style>\n",
       "<table border=\"1\" class=\"dataframe\">\n",
       "  <thead>\n",
       "    <tr style=\"text-align: right;\">\n",
       "      <th></th>\n",
       "      <th>id</th>\n",
       "      <th>name</th>\n",
       "      <th>sex</th>\n",
       "      <th>age</th>\n",
       "      <th>phone</th>\n",
       "      <th>test number</th>\n",
       "      <th>term</th>\n",
       "      <th>marks</th>\n",
       "    </tr>\n",
       "  </thead>\n",
       "  <tbody>\n",
       "    <tr>\n",
       "      <th>0</th>\n",
       "      <td>1</td>\n",
       "      <td>Mike</td>\n",
       "      <td>m</td>\n",
       "      <td>12</td>\n",
       "      <td>134</td>\n",
       "      <td>test 1</td>\n",
       "      <td>term 1</td>\n",
       "      <td>76</td>\n",
       "    </tr>\n",
       "    <tr>\n",
       "      <th>1</th>\n",
       "      <td>2</td>\n",
       "      <td>Linda</td>\n",
       "      <td>f</td>\n",
       "      <td>13</td>\n",
       "      <td>270</td>\n",
       "      <td>test 1</td>\n",
       "      <td>term 1</td>\n",
       "      <td>88</td>\n",
       "    </tr>\n",
       "    <tr>\n",
       "      <th>2</th>\n",
       "      <td>3</td>\n",
       "      <td>Sam</td>\n",
       "      <td>m</td>\n",
       "      <td>11</td>\n",
       "      <td>210</td>\n",
       "      <td>test 1</td>\n",
       "      <td>term 1</td>\n",
       "      <td>78</td>\n",
       "    </tr>\n",
       "    <tr>\n",
       "      <th>3</th>\n",
       "      <td>4</td>\n",
       "      <td>Esther</td>\n",
       "      <td>f</td>\n",
       "      <td>12</td>\n",
       "      <td>617</td>\n",
       "      <td>test 1</td>\n",
       "      <td>term 1</td>\n",
       "      <td>68</td>\n",
       "    </tr>\n",
       "    <tr>\n",
       "      <th>4</th>\n",
       "      <td>5</td>\n",
       "      <td>Mary</td>\n",
       "      <td>f</td>\n",
       "      <td>14</td>\n",
       "      <td>114</td>\n",
       "      <td>test 1</td>\n",
       "      <td>term 1</td>\n",
       "      <td>65</td>\n",
       "    </tr>\n",
       "  </tbody>\n",
       "</table>\n",
       "</div>"
      ],
      "text/plain": [
       "   id    name sex age  phone test number    term  marks\n",
       "0   1    Mike   m  12    134      test 1  term 1     76\n",
       "1   2   Linda   f  13    270      test 1  term 1     88\n",
       "2   3     Sam   m  11    210      test 1  term 1     78\n",
       "3   4  Esther   f  12    617      test 1  term 1     68\n",
       "4   5    Mary   f  14    114      test 1  term 1     65"
      ]
     },
     "execution_count": 16,
     "metadata": {},
     "output_type": "execute_result"
    }
   ],
   "source": [
    "df_students_long.head()"
   ]
  },
  {
   "cell_type": "markdown",
   "id": "d69d4380",
   "metadata": {},
   "source": [
    "## Analysis"
   ]
  },
  {
   "cell_type": "code",
   "execution_count": 17,
   "id": "49b712a3",
   "metadata": {},
   "outputs": [
    {
     "data": {
      "text/html": [
       "<div>\n",
       "<style scoped>\n",
       "    .dataframe tbody tr th:only-of-type {\n",
       "        vertical-align: middle;\n",
       "    }\n",
       "\n",
       "    .dataframe tbody tr th {\n",
       "        vertical-align: top;\n",
       "    }\n",
       "\n",
       "    .dataframe thead th {\n",
       "        text-align: right;\n",
       "    }\n",
       "</style>\n",
       "<table border=\"1\" class=\"dataframe\">\n",
       "  <thead>\n",
       "    <tr style=\"text-align: right;\">\n",
       "      <th></th>\n",
       "      <th></th>\n",
       "      <th></th>\n",
       "      <th>marks</th>\n",
       "    </tr>\n",
       "    <tr>\n",
       "      <th>term</th>\n",
       "      <th>test number</th>\n",
       "      <th>sex</th>\n",
       "      <th></th>\n",
       "    </tr>\n",
       "  </thead>\n",
       "  <tbody>\n",
       "    <tr>\n",
       "      <th rowspan=\"4\" valign=\"top\">term 1</th>\n",
       "      <th rowspan=\"2\" valign=\"top\">test 1</th>\n",
       "      <th>f</th>\n",
       "      <td>73.666667</td>\n",
       "    </tr>\n",
       "    <tr>\n",
       "      <th>m</th>\n",
       "      <td>77.000000</td>\n",
       "    </tr>\n",
       "    <tr>\n",
       "      <th rowspan=\"2\" valign=\"top\">test 2</th>\n",
       "      <th>f</th>\n",
       "      <td>75.000000</td>\n",
       "    </tr>\n",
       "    <tr>\n",
       "      <th>m</th>\n",
       "      <td>82.500000</td>\n",
       "    </tr>\n",
       "    <tr>\n",
       "      <th rowspan=\"4\" valign=\"top\">term 2</th>\n",
       "      <th rowspan=\"2\" valign=\"top\">test 1</th>\n",
       "      <th>f</th>\n",
       "      <td>77.333333</td>\n",
       "    </tr>\n",
       "    <tr>\n",
       "      <th>m</th>\n",
       "      <td>79.000000</td>\n",
       "    </tr>\n",
       "    <tr>\n",
       "      <th rowspan=\"2\" valign=\"top\">test 2</th>\n",
       "      <th>f</th>\n",
       "      <td>75.666667</td>\n",
       "    </tr>\n",
       "    <tr>\n",
       "      <th>m</th>\n",
       "      <td>83.500000</td>\n",
       "    </tr>\n",
       "    <tr>\n",
       "      <th rowspan=\"4\" valign=\"top\">term 3</th>\n",
       "      <th rowspan=\"2\" valign=\"top\">test 1</th>\n",
       "      <th>f</th>\n",
       "      <td>70.333333</td>\n",
       "    </tr>\n",
       "    <tr>\n",
       "      <th>m</th>\n",
       "      <td>83.500000</td>\n",
       "    </tr>\n",
       "    <tr>\n",
       "      <th rowspan=\"2\" valign=\"top\">test 2</th>\n",
       "      <th>f</th>\n",
       "      <td>78.333333</td>\n",
       "    </tr>\n",
       "    <tr>\n",
       "      <th>m</th>\n",
       "      <td>85.000000</td>\n",
       "    </tr>\n",
       "  </tbody>\n",
       "</table>\n",
       "</div>"
      ],
      "text/plain": [
       "                            marks\n",
       "term   test number sex           \n",
       "term 1 test 1      f    73.666667\n",
       "                   m    77.000000\n",
       "       test 2      f    75.000000\n",
       "                   m    82.500000\n",
       "term 2 test 1      f    77.333333\n",
       "                   m    79.000000\n",
       "       test 2      f    75.666667\n",
       "                   m    83.500000\n",
       "term 3 test 1      f    70.333333\n",
       "                   m    83.500000\n",
       "       test 2      f    78.333333\n",
       "                   m    85.000000"
      ]
     },
     "execution_count": 17,
     "metadata": {},
     "output_type": "execute_result"
    }
   ],
   "source": [
    "df_students_long.groupby([\"term\",\"test number\", \"sex\"]).agg(marks = (\"marks\", \"mean\"))"
   ]
  },
  {
   "cell_type": "markdown",
   "id": "0a820f4a",
   "metadata": {},
   "source": [
    " *  We observe that on average Male students have scored higher marks in both the tests across three terms"
   ]
  },
  {
   "cell_type": "code",
   "execution_count": 18,
   "id": "8635b77f",
   "metadata": {
    "scrolled": true
   },
   "outputs": [
    {
     "data": {
      "text/html": [
       "<div>\n",
       "<style scoped>\n",
       "    .dataframe tbody tr th:only-of-type {\n",
       "        vertical-align: middle;\n",
       "    }\n",
       "\n",
       "    .dataframe tbody tr th {\n",
       "        vertical-align: top;\n",
       "    }\n",
       "\n",
       "    .dataframe thead th {\n",
       "        text-align: right;\n",
       "    }\n",
       "</style>\n",
       "<table border=\"1\" class=\"dataframe\">\n",
       "  <thead>\n",
       "    <tr style=\"text-align: right;\">\n",
       "      <th></th>\n",
       "      <th></th>\n",
       "      <th></th>\n",
       "      <th>marks</th>\n",
       "    </tr>\n",
       "    <tr>\n",
       "      <th>term</th>\n",
       "      <th>test number</th>\n",
       "      <th>age</th>\n",
       "      <th></th>\n",
       "    </tr>\n",
       "  </thead>\n",
       "  <tbody>\n",
       "    <tr>\n",
       "      <th rowspan=\"8\" valign=\"top\">term 1</th>\n",
       "      <th rowspan=\"4\" valign=\"top\">test 1</th>\n",
       "      <th>11</th>\n",
       "      <td>78.0</td>\n",
       "    </tr>\n",
       "    <tr>\n",
       "      <th>12</th>\n",
       "      <td>72.0</td>\n",
       "    </tr>\n",
       "    <tr>\n",
       "      <th>13</th>\n",
       "      <td>88.0</td>\n",
       "    </tr>\n",
       "    <tr>\n",
       "      <th>14</th>\n",
       "      <td>65.0</td>\n",
       "    </tr>\n",
       "    <tr>\n",
       "      <th rowspan=\"4\" valign=\"top\">test 2</th>\n",
       "      <th>11</th>\n",
       "      <td>80.0</td>\n",
       "    </tr>\n",
       "    <tr>\n",
       "      <th>12</th>\n",
       "      <td>77.5</td>\n",
       "    </tr>\n",
       "    <tr>\n",
       "      <th>13</th>\n",
       "      <td>87.0</td>\n",
       "    </tr>\n",
       "    <tr>\n",
       "      <th>14</th>\n",
       "      <td>68.0</td>\n",
       "    </tr>\n",
       "    <tr>\n",
       "      <th rowspan=\"8\" valign=\"top\">term 2</th>\n",
       "      <th rowspan=\"4\" valign=\"top\">test 1</th>\n",
       "      <th>11</th>\n",
       "      <td>74.0</td>\n",
       "    </tr>\n",
       "    <tr>\n",
       "      <th>12</th>\n",
       "      <td>79.5</td>\n",
       "    </tr>\n",
       "    <tr>\n",
       "      <th>13</th>\n",
       "      <td>90.0</td>\n",
       "    </tr>\n",
       "    <tr>\n",
       "      <th>14</th>\n",
       "      <td>67.0</td>\n",
       "    </tr>\n",
       "    <tr>\n",
       "      <th rowspan=\"4\" valign=\"top\">test 2</th>\n",
       "      <th>11</th>\n",
       "      <td>87.0</td>\n",
       "    </tr>\n",
       "    <tr>\n",
       "      <th>12</th>\n",
       "      <td>77.5</td>\n",
       "    </tr>\n",
       "    <tr>\n",
       "      <th>13</th>\n",
       "      <td>82.0</td>\n",
       "    </tr>\n",
       "    <tr>\n",
       "      <th>14</th>\n",
       "      <td>70.0</td>\n",
       "    </tr>\n",
       "    <tr>\n",
       "      <th rowspan=\"8\" valign=\"top\">term 3</th>\n",
       "      <th rowspan=\"4\" valign=\"top\">test 1</th>\n",
       "      <th>11</th>\n",
       "      <td>80.0</td>\n",
       "    </tr>\n",
       "    <tr>\n",
       "      <th>12</th>\n",
       "      <td>80.5</td>\n",
       "    </tr>\n",
       "    <tr>\n",
       "      <th>13</th>\n",
       "      <td>73.0</td>\n",
       "    </tr>\n",
       "    <tr>\n",
       "      <th>14</th>\n",
       "      <td>64.0</td>\n",
       "    </tr>\n",
       "    <tr>\n",
       "      <th rowspan=\"4\" valign=\"top\">test 2</th>\n",
       "      <th>11</th>\n",
       "      <td>80.0</td>\n",
       "    </tr>\n",
       "    <tr>\n",
       "      <th>12</th>\n",
       "      <td>84.0</td>\n",
       "    </tr>\n",
       "    <tr>\n",
       "      <th>13</th>\n",
       "      <td>94.0</td>\n",
       "    </tr>\n",
       "    <tr>\n",
       "      <th>14</th>\n",
       "      <td>63.0</td>\n",
       "    </tr>\n",
       "  </tbody>\n",
       "</table>\n",
       "</div>"
      ],
      "text/plain": [
       "                        marks\n",
       "term   test number age       \n",
       "term 1 test 1      11    78.0\n",
       "                   12    72.0\n",
       "                   13    88.0\n",
       "                   14    65.0\n",
       "       test 2      11    80.0\n",
       "                   12    77.5\n",
       "                   13    87.0\n",
       "                   14    68.0\n",
       "term 2 test 1      11    74.0\n",
       "                   12    79.5\n",
       "                   13    90.0\n",
       "                   14    67.0\n",
       "       test 2      11    87.0\n",
       "                   12    77.5\n",
       "                   13    82.0\n",
       "                   14    70.0\n",
       "term 3 test 1      11    80.0\n",
       "                   12    80.5\n",
       "                   13    73.0\n",
       "                   14    64.0\n",
       "       test 2      11    80.0\n",
       "                   12    84.0\n",
       "                   13    94.0\n",
       "                   14    63.0"
      ]
     },
     "execution_count": 18,
     "metadata": {},
     "output_type": "execute_result"
    }
   ],
   "source": [
    "df_students_long.groupby([\"term\",\"test number\", \"age\"]).agg(marks = (\"marks\", \"mean\"))"
   ]
  },
  {
   "cell_type": "markdown",
   "id": "e7c544c3",
   "metadata": {},
   "source": [
    " *  We observe that on 14 years old are scoring least in the tests across each term\n",
    " *  13 Years old have been the best performing studens in all the tests except Test 1 in Term 3"
   ]
  },
  {
   "cell_type": "code",
   "execution_count": null,
   "id": "ef3f6d99",
   "metadata": {},
   "outputs": [],
   "source": []
  },
  {
   "cell_type": "markdown",
   "id": "517ef22d",
   "metadata": {},
   "source": [
    "## UNICEF Under 5 Mortality Rate Data"
   ]
  },
  {
   "cell_type": "code",
   "execution_count": 19,
   "id": "40296d74",
   "metadata": {},
   "outputs": [],
   "source": [
    "df_unicef_u5mr = pd.read_csv(\"02 unicef-under_5_mortality_rate.csv\")"
   ]
  },
  {
   "cell_type": "code",
   "execution_count": 20,
   "id": "81084aa5",
   "metadata": {},
   "outputs": [
    {
     "data": {
      "text/html": [
       "<div>\n",
       "<style scoped>\n",
       "    .dataframe tbody tr th:only-of-type {\n",
       "        vertical-align: middle;\n",
       "    }\n",
       "\n",
       "    .dataframe tbody tr th {\n",
       "        vertical-align: top;\n",
       "    }\n",
       "\n",
       "    .dataframe thead th {\n",
       "        text-align: right;\n",
       "    }\n",
       "</style>\n",
       "<table border=\"1\" class=\"dataframe\">\n",
       "  <thead>\n",
       "    <tr style=\"text-align: right;\">\n",
       "      <th></th>\n",
       "      <th>CountryName</th>\n",
       "      <th>U5MR 1950</th>\n",
       "      <th>U5MR 1951</th>\n",
       "      <th>U5MR 1952</th>\n",
       "      <th>U5MR 1953</th>\n",
       "      <th>U5MR 1954</th>\n",
       "      <th>U5MR 1955</th>\n",
       "      <th>U5MR 1956</th>\n",
       "      <th>U5MR 1957</th>\n",
       "      <th>U5MR 1958</th>\n",
       "      <th>...</th>\n",
       "      <th>U5MR 2006</th>\n",
       "      <th>U5MR 2007</th>\n",
       "      <th>U5MR 2008</th>\n",
       "      <th>U5MR 2009</th>\n",
       "      <th>U5MR 2010</th>\n",
       "      <th>U5MR 2011</th>\n",
       "      <th>U5MR 2012</th>\n",
       "      <th>U5MR 2013</th>\n",
       "      <th>U5MR 2014</th>\n",
       "      <th>U5MR 2015</th>\n",
       "    </tr>\n",
       "  </thead>\n",
       "  <tbody>\n",
       "    <tr>\n",
       "      <th>0</th>\n",
       "      <td>Afghanistan</td>\n",
       "      <td>NaN</td>\n",
       "      <td>NaN</td>\n",
       "      <td>NaN</td>\n",
       "      <td>NaN</td>\n",
       "      <td>NaN</td>\n",
       "      <td>NaN</td>\n",
       "      <td>NaN</td>\n",
       "      <td>NaN</td>\n",
       "      <td>NaN</td>\n",
       "      <td>...</td>\n",
       "      <td>116.3</td>\n",
       "      <td>113.2</td>\n",
       "      <td>110.4</td>\n",
       "      <td>107.6</td>\n",
       "      <td>105.0</td>\n",
       "      <td>102.3</td>\n",
       "      <td>99.5</td>\n",
       "      <td>96.7</td>\n",
       "      <td>93.9</td>\n",
       "      <td>91.1</td>\n",
       "    </tr>\n",
       "    <tr>\n",
       "      <th>1</th>\n",
       "      <td>Albania</td>\n",
       "      <td>NaN</td>\n",
       "      <td>NaN</td>\n",
       "      <td>NaN</td>\n",
       "      <td>NaN</td>\n",
       "      <td>NaN</td>\n",
       "      <td>NaN</td>\n",
       "      <td>NaN</td>\n",
       "      <td>NaN</td>\n",
       "      <td>NaN</td>\n",
       "      <td>...</td>\n",
       "      <td>19.5</td>\n",
       "      <td>18.7</td>\n",
       "      <td>17.9</td>\n",
       "      <td>17.3</td>\n",
       "      <td>16.6</td>\n",
       "      <td>16.0</td>\n",
       "      <td>15.5</td>\n",
       "      <td>14.9</td>\n",
       "      <td>14.4</td>\n",
       "      <td>14.0</td>\n",
       "    </tr>\n",
       "    <tr>\n",
       "      <th>2</th>\n",
       "      <td>Algeria</td>\n",
       "      <td>NaN</td>\n",
       "      <td>NaN</td>\n",
       "      <td>NaN</td>\n",
       "      <td>NaN</td>\n",
       "      <td>251.0</td>\n",
       "      <td>249.9</td>\n",
       "      <td>249.0</td>\n",
       "      <td>248.0</td>\n",
       "      <td>247.5</td>\n",
       "      <td>...</td>\n",
       "      <td>32.1</td>\n",
       "      <td>30.7</td>\n",
       "      <td>29.4</td>\n",
       "      <td>28.3</td>\n",
       "      <td>27.3</td>\n",
       "      <td>26.6</td>\n",
       "      <td>26.1</td>\n",
       "      <td>25.8</td>\n",
       "      <td>25.6</td>\n",
       "      <td>25.5</td>\n",
       "    </tr>\n",
       "    <tr>\n",
       "      <th>3</th>\n",
       "      <td>Andorra</td>\n",
       "      <td>NaN</td>\n",
       "      <td>NaN</td>\n",
       "      <td>NaN</td>\n",
       "      <td>NaN</td>\n",
       "      <td>NaN</td>\n",
       "      <td>NaN</td>\n",
       "      <td>NaN</td>\n",
       "      <td>NaN</td>\n",
       "      <td>NaN</td>\n",
       "      <td>...</td>\n",
       "      <td>3.7</td>\n",
       "      <td>3.6</td>\n",
       "      <td>3.5</td>\n",
       "      <td>3.4</td>\n",
       "      <td>3.3</td>\n",
       "      <td>3.2</td>\n",
       "      <td>3.1</td>\n",
       "      <td>3.0</td>\n",
       "      <td>2.9</td>\n",
       "      <td>2.8</td>\n",
       "    </tr>\n",
       "    <tr>\n",
       "      <th>4</th>\n",
       "      <td>Angola</td>\n",
       "      <td>NaN</td>\n",
       "      <td>NaN</td>\n",
       "      <td>NaN</td>\n",
       "      <td>NaN</td>\n",
       "      <td>NaN</td>\n",
       "      <td>NaN</td>\n",
       "      <td>NaN</td>\n",
       "      <td>NaN</td>\n",
       "      <td>NaN</td>\n",
       "      <td>...</td>\n",
       "      <td>200.5</td>\n",
       "      <td>196.4</td>\n",
       "      <td>192.0</td>\n",
       "      <td>187.3</td>\n",
       "      <td>182.5</td>\n",
       "      <td>177.3</td>\n",
       "      <td>172.2</td>\n",
       "      <td>167.1</td>\n",
       "      <td>162.2</td>\n",
       "      <td>156.9</td>\n",
       "    </tr>\n",
       "  </tbody>\n",
       "</table>\n",
       "<p>5 rows × 67 columns</p>\n",
       "</div>"
      ],
      "text/plain": [
       "   CountryName  U5MR 1950  U5MR 1951  U5MR 1952  U5MR 1953  U5MR 1954  \\\n",
       "0  Afghanistan        NaN        NaN        NaN        NaN        NaN   \n",
       "1      Albania        NaN        NaN        NaN        NaN        NaN   \n",
       "2      Algeria        NaN        NaN        NaN        NaN      251.0   \n",
       "3      Andorra        NaN        NaN        NaN        NaN        NaN   \n",
       "4       Angola        NaN        NaN        NaN        NaN        NaN   \n",
       "\n",
       "   U5MR 1955  U5MR 1956  U5MR 1957  U5MR 1958  ...  U5MR 2006  U5MR 2007  \\\n",
       "0        NaN        NaN        NaN        NaN  ...      116.3      113.2   \n",
       "1        NaN        NaN        NaN        NaN  ...       19.5       18.7   \n",
       "2      249.9      249.0      248.0      247.5  ...       32.1       30.7   \n",
       "3        NaN        NaN        NaN        NaN  ...        3.7        3.6   \n",
       "4        NaN        NaN        NaN        NaN  ...      200.5      196.4   \n",
       "\n",
       "   U5MR 2008  U5MR 2009  U5MR 2010  U5MR 2011  U5MR 2012  U5MR 2013  \\\n",
       "0      110.4      107.6      105.0      102.3       99.5       96.7   \n",
       "1       17.9       17.3       16.6       16.0       15.5       14.9   \n",
       "2       29.4       28.3       27.3       26.6       26.1       25.8   \n",
       "3        3.5        3.4        3.3        3.2        3.1        3.0   \n",
       "4      192.0      187.3      182.5      177.3      172.2      167.1   \n",
       "\n",
       "   U5MR 2014  U5MR 2015  \n",
       "0       93.9       91.1  \n",
       "1       14.4       14.0  \n",
       "2       25.6       25.5  \n",
       "3        2.9        2.8  \n",
       "4      162.2      156.9  \n",
       "\n",
       "[5 rows x 67 columns]"
      ]
     },
     "execution_count": 20,
     "metadata": {},
     "output_type": "execute_result"
    }
   ],
   "source": [
    "df_unicef_u5mr.head()"
   ]
  },
  {
   "cell_type": "code",
   "execution_count": 21,
   "id": "932b3150",
   "metadata": {},
   "outputs": [
    {
     "data": {
      "text/plain": [
       "(196, 67)"
      ]
     },
     "execution_count": 21,
     "metadata": {},
     "output_type": "execute_result"
    }
   ],
   "source": [
    "df_unicef_u5mr.shape\n"
   ]
  },
  {
   "cell_type": "code",
   "execution_count": 22,
   "id": "a8856a5e",
   "metadata": {},
   "outputs": [
    {
     "data": {
      "text/plain": [
       "Index(['CountryName', 'U5MR 1950', 'U5MR 1951', 'U5MR 1952', 'U5MR 1953',\n",
       "       'U5MR 1954', 'U5MR 1955', 'U5MR 1956', 'U5MR 1957', 'U5MR 1958',\n",
       "       'U5MR 1959', 'U5MR 1960', 'U5MR 1961', 'U5MR 1962', 'U5MR 1963',\n",
       "       'U5MR 1964', 'U5MR 1965', 'U5MR 1966', 'U5MR 1967', 'U5MR 1968',\n",
       "       'U5MR 1969', 'U5MR 1970', 'U5MR 1971', 'U5MR 1972', 'U5MR 1973',\n",
       "       'U5MR 1974', 'U5MR 1975', 'U5MR 1976', 'U5MR 1977', 'U5MR 1978',\n",
       "       'U5MR 1979', 'U5MR 1980', 'U5MR 1981', 'U5MR 1982', 'U5MR 1983',\n",
       "       'U5MR 1984', 'U5MR 1985', 'U5MR 1986', 'U5MR 1987', 'U5MR 1988',\n",
       "       'U5MR 1989', 'U5MR 1990', 'U5MR 1991', 'U5MR 1992', 'U5MR 1993',\n",
       "       'U5MR 1994', 'U5MR 1995', 'U5MR 1996', 'U5MR 1997', 'U5MR 1998',\n",
       "       'U5MR 1999', 'U5MR 2000', 'U5MR 2001', 'U5MR 2002', 'U5MR 2003',\n",
       "       'U5MR 2004', 'U5MR 2005', 'U5MR 2006', 'U5MR 2007', 'U5MR 2008',\n",
       "       'U5MR 2009', 'U5MR 2010', 'U5MR 2011', 'U5MR 2012', 'U5MR 2013',\n",
       "       'U5MR 2014', 'U5MR 2015'],\n",
       "      dtype='object')"
      ]
     },
     "execution_count": 22,
     "metadata": {},
     "output_type": "execute_result"
    }
   ],
   "source": [
    "df_unicef_u5mr.columns"
   ]
  },
  {
   "cell_type": "code",
   "execution_count": 23,
   "id": "4ed9b9b1",
   "metadata": {},
   "outputs": [],
   "source": [
    "df_unicef_u5mr_long =  pd.melt(df_unicef_u5mr, id_vars=['CountryName']\n",
    "        , value_vars=['U5MR 1950', 'U5MR 1951', 'U5MR 1952', 'U5MR 1953',\n",
    "       'U5MR 1954', 'U5MR 1955', 'U5MR 1956', 'U5MR 1957', 'U5MR 1958',\n",
    "       'U5MR 1959', 'U5MR 1960', 'U5MR 1961', 'U5MR 1962', 'U5MR 1963',\n",
    "       'U5MR 1964', 'U5MR 1965', 'U5MR 1966', 'U5MR 1967', 'U5MR 1968',\n",
    "       'U5MR 1969', 'U5MR 1970', 'U5MR 1971', 'U5MR 1972', 'U5MR 1973',\n",
    "       'U5MR 1974', 'U5MR 1975', 'U5MR 1976', 'U5MR 1977', 'U5MR 1978',\n",
    "       'U5MR 1979', 'U5MR 1980', 'U5MR 1981', 'U5MR 1982', 'U5MR 1983',\n",
    "       'U5MR 1984', 'U5MR 1985', 'U5MR 1986', 'U5MR 1987', 'U5MR 1988',\n",
    "       'U5MR 1989', 'U5MR 1990', 'U5MR 1991', 'U5MR 1992', 'U5MR 1993',\n",
    "       'U5MR 1994', 'U5MR 1995', 'U5MR 1996', 'U5MR 1997', 'U5MR 1998',\n",
    "       'U5MR 1999', 'U5MR 2000', 'U5MR 2001', 'U5MR 2002', 'U5MR 2003',\n",
    "       'U5MR 2004', 'U5MR 2005', 'U5MR 2006', 'U5MR 2007', 'U5MR 2008',\n",
    "       'U5MR 2009', 'U5MR 2010', 'U5MR 2011', 'U5MR 2012', 'U5MR 2013',\n",
    "       'U5MR 2014', 'U5MR 2015'])"
   ]
  },
  {
   "cell_type": "code",
   "execution_count": 24,
   "id": "b7158cc8",
   "metadata": {},
   "outputs": [
    {
     "data": {
      "text/html": [
       "<div>\n",
       "<style scoped>\n",
       "    .dataframe tbody tr th:only-of-type {\n",
       "        vertical-align: middle;\n",
       "    }\n",
       "\n",
       "    .dataframe tbody tr th {\n",
       "        vertical-align: top;\n",
       "    }\n",
       "\n",
       "    .dataframe thead th {\n",
       "        text-align: right;\n",
       "    }\n",
       "</style>\n",
       "<table border=\"1\" class=\"dataframe\">\n",
       "  <thead>\n",
       "    <tr style=\"text-align: right;\">\n",
       "      <th></th>\n",
       "      <th>CountryName</th>\n",
       "      <th>variable</th>\n",
       "      <th>value</th>\n",
       "    </tr>\n",
       "  </thead>\n",
       "  <tbody>\n",
       "    <tr>\n",
       "      <th>0</th>\n",
       "      <td>Afghanistan</td>\n",
       "      <td>U5MR 1950</td>\n",
       "      <td>NaN</td>\n",
       "    </tr>\n",
       "    <tr>\n",
       "      <th>1</th>\n",
       "      <td>Albania</td>\n",
       "      <td>U5MR 1950</td>\n",
       "      <td>NaN</td>\n",
       "    </tr>\n",
       "    <tr>\n",
       "      <th>2</th>\n",
       "      <td>Algeria</td>\n",
       "      <td>U5MR 1950</td>\n",
       "      <td>NaN</td>\n",
       "    </tr>\n",
       "    <tr>\n",
       "      <th>3</th>\n",
       "      <td>Andorra</td>\n",
       "      <td>U5MR 1950</td>\n",
       "      <td>NaN</td>\n",
       "    </tr>\n",
       "    <tr>\n",
       "      <th>4</th>\n",
       "      <td>Angola</td>\n",
       "      <td>U5MR 1950</td>\n",
       "      <td>NaN</td>\n",
       "    </tr>\n",
       "  </tbody>\n",
       "</table>\n",
       "</div>"
      ],
      "text/plain": [
       "   CountryName   variable  value\n",
       "0  Afghanistan  U5MR 1950    NaN\n",
       "1      Albania  U5MR 1950    NaN\n",
       "2      Algeria  U5MR 1950    NaN\n",
       "3      Andorra  U5MR 1950    NaN\n",
       "4       Angola  U5MR 1950    NaN"
      ]
     },
     "execution_count": 24,
     "metadata": {},
     "output_type": "execute_result"
    }
   ],
   "source": [
    "df_unicef_u5mr_long.head()"
   ]
  },
  {
   "cell_type": "code",
   "execution_count": 25,
   "id": "ebd89b93",
   "metadata": {},
   "outputs": [],
   "source": [
    "df_unicef_u5mr_long[\"Year\"] = df_unicef_u5mr_long.variable.str.slice(5,9)"
   ]
  },
  {
   "cell_type": "code",
   "execution_count": 26,
   "id": "f1124b05",
   "metadata": {},
   "outputs": [],
   "source": [
    "df_unicef_u5mr_long = df_unicef_u5mr_long[[\"CountryName\", \"Year\", \"value\"]]"
   ]
  },
  {
   "cell_type": "code",
   "execution_count": 27,
   "id": "da6ce617",
   "metadata": {},
   "outputs": [],
   "source": [
    "df_unicef_u5mr_long.columns = [\"CountryName\", \"Year\", \"Mortality_Per_1000_Live_Birth\"]"
   ]
  },
  {
   "cell_type": "code",
   "execution_count": 28,
   "id": "daafcf60",
   "metadata": {},
   "outputs": [
    {
     "data": {
      "text/html": [
       "<div>\n",
       "<style scoped>\n",
       "    .dataframe tbody tr th:only-of-type {\n",
       "        vertical-align: middle;\n",
       "    }\n",
       "\n",
       "    .dataframe tbody tr th {\n",
       "        vertical-align: top;\n",
       "    }\n",
       "\n",
       "    .dataframe thead th {\n",
       "        text-align: right;\n",
       "    }\n",
       "</style>\n",
       "<table border=\"1\" class=\"dataframe\">\n",
       "  <thead>\n",
       "    <tr style=\"text-align: right;\">\n",
       "      <th></th>\n",
       "      <th>CountryName</th>\n",
       "      <th>Year</th>\n",
       "      <th>Mortality_Per_1000_Live_Birth</th>\n",
       "    </tr>\n",
       "  </thead>\n",
       "  <tbody>\n",
       "    <tr>\n",
       "      <th>0</th>\n",
       "      <td>Afghanistan</td>\n",
       "      <td>1950</td>\n",
       "      <td>NaN</td>\n",
       "    </tr>\n",
       "    <tr>\n",
       "      <th>1</th>\n",
       "      <td>Albania</td>\n",
       "      <td>1950</td>\n",
       "      <td>NaN</td>\n",
       "    </tr>\n",
       "    <tr>\n",
       "      <th>2</th>\n",
       "      <td>Algeria</td>\n",
       "      <td>1950</td>\n",
       "      <td>NaN</td>\n",
       "    </tr>\n",
       "    <tr>\n",
       "      <th>3</th>\n",
       "      <td>Andorra</td>\n",
       "      <td>1950</td>\n",
       "      <td>NaN</td>\n",
       "    </tr>\n",
       "    <tr>\n",
       "      <th>4</th>\n",
       "      <td>Angola</td>\n",
       "      <td>1950</td>\n",
       "      <td>NaN</td>\n",
       "    </tr>\n",
       "  </tbody>\n",
       "</table>\n",
       "</div>"
      ],
      "text/plain": [
       "   CountryName  Year  Mortality_Per_1000_Live_Birth\n",
       "0  Afghanistan  1950                            NaN\n",
       "1      Albania  1950                            NaN\n",
       "2      Algeria  1950                            NaN\n",
       "3      Andorra  1950                            NaN\n",
       "4       Angola  1950                            NaN"
      ]
     },
     "execution_count": 28,
     "metadata": {},
     "output_type": "execute_result"
    }
   ],
   "source": [
    "df_unicef_u5mr_long.head()"
   ]
  },
  {
   "cell_type": "code",
   "execution_count": 29,
   "id": "347ffe7f",
   "metadata": {},
   "outputs": [
    {
     "data": {
      "text/plain": [
       "(12936, 3)"
      ]
     },
     "execution_count": 29,
     "metadata": {},
     "output_type": "execute_result"
    }
   ],
   "source": [
    "df_unicef_u5mr_long.shape"
   ]
  },
  {
   "cell_type": "code",
   "execution_count": 30,
   "id": "ae88d50b",
   "metadata": {},
   "outputs": [
    {
     "data": {
      "text/plain": [
       "CountryName                         0\n",
       "Year                                0\n",
       "Mortality_Per_1000_Live_Birth    2692\n",
       "dtype: int64"
      ]
     },
     "execution_count": 30,
     "metadata": {},
     "output_type": "execute_result"
    }
   ],
   "source": [
    "df_unicef_u5mr_long.isnull().sum()"
   ]
  },
  {
   "cell_type": "markdown",
   "id": "2a3d53bc",
   "metadata": {},
   "source": [
    "#### We will replace Null in Mortality Per 1000 Live Birth column of Average value of that country"
   ]
  },
  {
   "cell_type": "code",
   "execution_count": 31,
   "id": "0c171e93",
   "metadata": {},
   "outputs": [],
   "source": [
    "df_unicef_u5mr_long['Mortality_Per_1000_Live_Birth'] = df_unicef_u5mr_long['Mortality_Per_1000_Live_Birth'].fillna(df_unicef_u5mr_long.groupby(['CountryName'])['Mortality_Per_1000_Live_Birth'].transform('mean'))"
   ]
  },
  {
   "cell_type": "code",
   "execution_count": 32,
   "id": "136075b4",
   "metadata": {},
   "outputs": [
    {
     "data": {
      "text/plain": [
       "CountryName                       0\n",
       "Year                              0\n",
       "Mortality_Per_1000_Live_Birth    66\n",
       "dtype: int64"
      ]
     },
     "execution_count": 32,
     "metadata": {},
     "output_type": "execute_result"
    }
   ],
   "source": [
    "df_unicef_u5mr_long.isnull().sum()"
   ]
  },
  {
   "cell_type": "code",
   "execution_count": 33,
   "id": "e1d44269",
   "metadata": {
    "scrolled": true
   },
   "outputs": [
    {
     "data": {
      "text/html": [
       "<div>\n",
       "<style scoped>\n",
       "    .dataframe tbody tr th:only-of-type {\n",
       "        vertical-align: middle;\n",
       "    }\n",
       "\n",
       "    .dataframe tbody tr th {\n",
       "        vertical-align: top;\n",
       "    }\n",
       "\n",
       "    .dataframe thead th {\n",
       "        text-align: right;\n",
       "    }\n",
       "</style>\n",
       "<table border=\"1\" class=\"dataframe\">\n",
       "  <thead>\n",
       "    <tr style=\"text-align: right;\">\n",
       "      <th></th>\n",
       "      <th>CountryName</th>\n",
       "      <th>Year</th>\n",
       "      <th>Mortality_Per_1000_Live_Birth</th>\n",
       "    </tr>\n",
       "  </thead>\n",
       "  <tbody>\n",
       "    <tr>\n",
       "      <th>100</th>\n",
       "      <td>Liechtenstein</td>\n",
       "      <td>1950</td>\n",
       "      <td>NaN</td>\n",
       "    </tr>\n",
       "    <tr>\n",
       "      <th>296</th>\n",
       "      <td>Liechtenstein</td>\n",
       "      <td>1951</td>\n",
       "      <td>NaN</td>\n",
       "    </tr>\n",
       "    <tr>\n",
       "      <th>492</th>\n",
       "      <td>Liechtenstein</td>\n",
       "      <td>1952</td>\n",
       "      <td>NaN</td>\n",
       "    </tr>\n",
       "    <tr>\n",
       "      <th>688</th>\n",
       "      <td>Liechtenstein</td>\n",
       "      <td>1953</td>\n",
       "      <td>NaN</td>\n",
       "    </tr>\n",
       "    <tr>\n",
       "      <th>884</th>\n",
       "      <td>Liechtenstein</td>\n",
       "      <td>1954</td>\n",
       "      <td>NaN</td>\n",
       "    </tr>\n",
       "    <tr>\n",
       "      <th>...</th>\n",
       "      <td>...</td>\n",
       "      <td>...</td>\n",
       "      <td>...</td>\n",
       "    </tr>\n",
       "    <tr>\n",
       "      <th>12056</th>\n",
       "      <td>Liechtenstein</td>\n",
       "      <td>2011</td>\n",
       "      <td>NaN</td>\n",
       "    </tr>\n",
       "    <tr>\n",
       "      <th>12252</th>\n",
       "      <td>Liechtenstein</td>\n",
       "      <td>2012</td>\n",
       "      <td>NaN</td>\n",
       "    </tr>\n",
       "    <tr>\n",
       "      <th>12448</th>\n",
       "      <td>Liechtenstein</td>\n",
       "      <td>2013</td>\n",
       "      <td>NaN</td>\n",
       "    </tr>\n",
       "    <tr>\n",
       "      <th>12644</th>\n",
       "      <td>Liechtenstein</td>\n",
       "      <td>2014</td>\n",
       "      <td>NaN</td>\n",
       "    </tr>\n",
       "    <tr>\n",
       "      <th>12840</th>\n",
       "      <td>Liechtenstein</td>\n",
       "      <td>2015</td>\n",
       "      <td>NaN</td>\n",
       "    </tr>\n",
       "  </tbody>\n",
       "</table>\n",
       "<p>66 rows × 3 columns</p>\n",
       "</div>"
      ],
      "text/plain": [
       "         CountryName  Year  Mortality_Per_1000_Live_Birth\n",
       "100    Liechtenstein  1950                            NaN\n",
       "296    Liechtenstein  1951                            NaN\n",
       "492    Liechtenstein  1952                            NaN\n",
       "688    Liechtenstein  1953                            NaN\n",
       "884    Liechtenstein  1954                            NaN\n",
       "...              ...   ...                            ...\n",
       "12056  Liechtenstein  2011                            NaN\n",
       "12252  Liechtenstein  2012                            NaN\n",
       "12448  Liechtenstein  2013                            NaN\n",
       "12644  Liechtenstein  2014                            NaN\n",
       "12840  Liechtenstein  2015                            NaN\n",
       "\n",
       "[66 rows x 3 columns]"
      ]
     },
     "execution_count": 33,
     "metadata": {},
     "output_type": "execute_result"
    }
   ],
   "source": [
    "df_unicef_u5mr_long[df_unicef_u5mr_long.Mortality_Per_1000_Live_Birth.isnull()]"
   ]
  },
  {
   "cell_type": "markdown",
   "id": "1a08e887",
   "metadata": {},
   "source": [
    "#### Data for Liechtenstein is not available, we will drop these rows"
   ]
  },
  {
   "cell_type": "code",
   "execution_count": 34,
   "id": "19b4106b",
   "metadata": {},
   "outputs": [],
   "source": [
    " df_unicef_u5mr_long = df_unicef_u5mr_long.dropna(subset=['Mortality_Per_1000_Live_Birth']) "
   ]
  },
  {
   "cell_type": "code",
   "execution_count": 35,
   "id": "91ab4b0e",
   "metadata": {},
   "outputs": [
    {
     "data": {
      "text/plain": [
       "CountryName                      0\n",
       "Year                             0\n",
       "Mortality_Per_1000_Live_Birth    0\n",
       "dtype: int64"
      ]
     },
     "execution_count": 35,
     "metadata": {},
     "output_type": "execute_result"
    }
   ],
   "source": [
    "df_unicef_u5mr_long.isnull().sum()"
   ]
  },
  {
   "cell_type": "code",
   "execution_count": 36,
   "id": "03eafeb5",
   "metadata": {},
   "outputs": [
    {
     "data": {
      "text/plain": [
       "CountryName                       object\n",
       "Year                              object\n",
       "Mortality_Per_1000_Live_Birth    float64\n",
       "dtype: object"
      ]
     },
     "execution_count": 36,
     "metadata": {},
     "output_type": "execute_result"
    }
   ],
   "source": [
    "df_unicef_u5mr_long.dtypes"
   ]
  },
  {
   "cell_type": "code",
   "execution_count": 37,
   "id": "a20626ca",
   "metadata": {},
   "outputs": [],
   "source": [
    "df_unicef_u5mr_long.Year = df_unicef_u5mr_long.Year.astype(\"int\")"
   ]
  },
  {
   "cell_type": "code",
   "execution_count": null,
   "id": "c2abd036",
   "metadata": {},
   "outputs": [],
   "source": []
  },
  {
   "cell_type": "markdown",
   "id": "17e98e5a",
   "metadata": {},
   "source": [
    "## Analysis"
   ]
  },
  {
   "cell_type": "markdown",
   "id": "cfff9a84",
   "metadata": {},
   "source": [
    "### Top 10 Countries with Highest under 5 in last 10 Years"
   ]
  },
  {
   "cell_type": "code",
   "execution_count": 38,
   "id": "a6fb814f",
   "metadata": {},
   "outputs": [
    {
     "data": {
      "text/plain": [
       "array([1950, 1951, 1952, 1953, 1954, 1955, 1956, 1957, 1958, 1959, 1960,\n",
       "       1961, 1962, 1963, 1964, 1965, 1966, 1967, 1968, 1969, 1970, 1971,\n",
       "       1972, 1973, 1974, 1975, 1976, 1977, 1978, 1979, 1980, 1981, 1982,\n",
       "       1983, 1984, 1985, 1986, 1987, 1988, 1989, 1990, 1991, 1992, 1993,\n",
       "       1994, 1995, 1996, 1997, 1998, 1999, 2000, 2001, 2002, 2003, 2004,\n",
       "       2005, 2006, 2007, 2008, 2009, 2010, 2011, 2012, 2013, 2014, 2015])"
      ]
     },
     "execution_count": 38,
     "metadata": {},
     "output_type": "execute_result"
    }
   ],
   "source": [
    "df_unicef_u5mr_long.Year.unique()"
   ]
  },
  {
   "cell_type": "code",
   "execution_count": 39,
   "id": "6e3d3349",
   "metadata": {},
   "outputs": [],
   "source": [
    "df_unicef_u5mr_long_10_Years = df_unicef_u5mr_long[df_unicef_u5mr_long.Year > 2005]"
   ]
  },
  {
   "cell_type": "code",
   "execution_count": 40,
   "id": "9d30c80d",
   "metadata": {},
   "outputs": [],
   "source": [
    "highest_10_MR = df_unicef_u5mr_long_10_Years.groupby([\"CountryName\"]).agg(Avg_Mortality = (\"Mortality_Per_1000_Live_Birth\", \"mean\")\n",
    "                                                         ).reset_index().sort_values(\"Avg_Mortality\", ascending = False).head(10)"
   ]
  },
  {
   "cell_type": "code",
   "execution_count": 41,
   "id": "0a621ea0",
   "metadata": {},
   "outputs": [
    {
     "data": {
      "text/html": [
       "<div>\n",
       "<style scoped>\n",
       "    .dataframe tbody tr th:only-of-type {\n",
       "        vertical-align: middle;\n",
       "    }\n",
       "\n",
       "    .dataframe tbody tr th {\n",
       "        vertical-align: top;\n",
       "    }\n",
       "\n",
       "    .dataframe thead th {\n",
       "        text-align: right;\n",
       "    }\n",
       "</style>\n",
       "<table border=\"1\" class=\"dataframe\">\n",
       "  <thead>\n",
       "    <tr style=\"text-align: right;\">\n",
       "      <th></th>\n",
       "      <th>CountryName</th>\n",
       "      <th>Avg_Mortality</th>\n",
       "    </tr>\n",
       "  </thead>\n",
       "  <tbody>\n",
       "    <tr>\n",
       "      <th>4</th>\n",
       "      <td>Angola</td>\n",
       "      <td>179.44</td>\n",
       "    </tr>\n",
       "    <tr>\n",
       "      <th>33</th>\n",
       "      <td>Chad</td>\n",
       "      <td>157.45</td>\n",
       "    </tr>\n",
       "    <tr>\n",
       "      <th>158</th>\n",
       "      <td>Somalia</td>\n",
       "      <td>156.86</td>\n",
       "    </tr>\n",
       "    <tr>\n",
       "      <th>153</th>\n",
       "      <td>Sierra Leone</td>\n",
       "      <td>156.58</td>\n",
       "    </tr>\n",
       "    <tr>\n",
       "      <th>32</th>\n",
       "      <td>Central African Republic</td>\n",
       "      <td>147.87</td>\n",
       "    </tr>\n",
       "    <tr>\n",
       "      <th>107</th>\n",
       "      <td>Mali</td>\n",
       "      <td>135.93</td>\n",
       "    </tr>\n",
       "    <tr>\n",
       "      <th>127</th>\n",
       "      <td>Nigeria</td>\n",
       "      <td>128.96</td>\n",
       "    </tr>\n",
       "    <tr>\n",
       "      <th>126</th>\n",
       "      <td>Niger</td>\n",
       "      <td>123.50</td>\n",
       "    </tr>\n",
       "    <tr>\n",
       "      <th>39</th>\n",
       "      <td>Congo DR</td>\n",
       "      <td>114.86</td>\n",
       "    </tr>\n",
       "    <tr>\n",
       "      <th>71</th>\n",
       "      <td>Guinea-Bissau</td>\n",
       "      <td>114.34</td>\n",
       "    </tr>\n",
       "  </tbody>\n",
       "</table>\n",
       "</div>"
      ],
      "text/plain": [
       "                  CountryName  Avg_Mortality\n",
       "4                      Angola         179.44\n",
       "33                       Chad         157.45\n",
       "158                   Somalia         156.86\n",
       "153              Sierra Leone         156.58\n",
       "32   Central African Republic         147.87\n",
       "107                      Mali         135.93\n",
       "127                   Nigeria         128.96\n",
       "126                     Niger         123.50\n",
       "39                   Congo DR         114.86\n",
       "71              Guinea-Bissau         114.34"
      ]
     },
     "execution_count": 41,
     "metadata": {},
     "output_type": "execute_result"
    }
   ],
   "source": [
    "highest_10_MR"
   ]
  },
  {
   "cell_type": "code",
   "execution_count": 42,
   "id": "fad01503",
   "metadata": {},
   "outputs": [],
   "source": [
    "### Top 10 Countries with Least under 5 in last 10 Years"
   ]
  },
  {
   "cell_type": "code",
   "execution_count": 43,
   "id": "130dbff7",
   "metadata": {},
   "outputs": [],
   "source": [
    "least_10_MR = df_unicef_u5mr_long_10_Years.groupby([\"CountryName\"]).agg(Avg_Mortality = (\"Mortality_Per_1000_Live_Birth\", \"mean\")\n",
    "                                                         ).reset_index().sort_values(\"Avg_Mortality\", ascending = True).head(10)"
   ]
  },
  {
   "cell_type": "code",
   "execution_count": 44,
   "id": "6c036f5c",
   "metadata": {},
   "outputs": [
    {
     "data": {
      "text/html": [
       "<div>\n",
       "<style scoped>\n",
       "    .dataframe tbody tr th:only-of-type {\n",
       "        vertical-align: middle;\n",
       "    }\n",
       "\n",
       "    .dataframe tbody tr th {\n",
       "        vertical-align: top;\n",
       "    }\n",
       "\n",
       "    .dataframe thead th {\n",
       "        text-align: right;\n",
       "    }\n",
       "</style>\n",
       "<table border=\"1\" class=\"dataframe\">\n",
       "  <thead>\n",
       "    <tr style=\"text-align: right;\">\n",
       "      <th></th>\n",
       "      <th>CountryName</th>\n",
       "      <th>Avg_Mortality</th>\n",
       "    </tr>\n",
       "  </thead>\n",
       "  <tbody>\n",
       "    <tr>\n",
       "      <th>76</th>\n",
       "      <td>Iceland</td>\n",
       "      <td>2.40</td>\n",
       "    </tr>\n",
       "    <tr>\n",
       "      <th>101</th>\n",
       "      <td>Luxembourg</td>\n",
       "      <td>2.44</td>\n",
       "    </tr>\n",
       "    <tr>\n",
       "      <th>154</th>\n",
       "      <td>Singapore</td>\n",
       "      <td>2.81</td>\n",
       "    </tr>\n",
       "    <tr>\n",
       "      <th>60</th>\n",
       "      <td>Finland</td>\n",
       "      <td>2.95</td>\n",
       "    </tr>\n",
       "    <tr>\n",
       "      <th>168</th>\n",
       "      <td>Sweden</td>\n",
       "      <td>3.11</td>\n",
       "    </tr>\n",
       "    <tr>\n",
       "      <th>85</th>\n",
       "      <td>Japan</td>\n",
       "      <td>3.18</td>\n",
       "    </tr>\n",
       "    <tr>\n",
       "      <th>129</th>\n",
       "      <td>Norway</td>\n",
       "      <td>3.19</td>\n",
       "    </tr>\n",
       "    <tr>\n",
       "      <th>156</th>\n",
       "      <td>Slovenia</td>\n",
       "      <td>3.24</td>\n",
       "    </tr>\n",
       "    <tr>\n",
       "      <th>3</th>\n",
       "      <td>Andorra</td>\n",
       "      <td>3.25</td>\n",
       "    </tr>\n",
       "    <tr>\n",
       "      <th>147</th>\n",
       "      <td>San Marino</td>\n",
       "      <td>3.43</td>\n",
       "    </tr>\n",
       "  </tbody>\n",
       "</table>\n",
       "</div>"
      ],
      "text/plain": [
       "    CountryName  Avg_Mortality\n",
       "76      Iceland           2.40\n",
       "101  Luxembourg           2.44\n",
       "154   Singapore           2.81\n",
       "60      Finland           2.95\n",
       "168      Sweden           3.11\n",
       "85        Japan           3.18\n",
       "129      Norway           3.19\n",
       "156    Slovenia           3.24\n",
       "3       Andorra           3.25\n",
       "147  San Marino           3.43"
      ]
     },
     "execution_count": 44,
     "metadata": {},
     "output_type": "execute_result"
    }
   ],
   "source": [
    "least_10_MR"
   ]
  },
  {
   "cell_type": "code",
   "execution_count": null,
   "id": "239972f4",
   "metadata": {},
   "outputs": [],
   "source": []
  },
  {
   "cell_type": "markdown",
   "id": "aba37b40",
   "metadata": {},
   "source": [
    "### Countries Which have improved most from 50s to in last 10 years"
   ]
  },
  {
   "cell_type": "code",
   "execution_count": 45,
   "id": "73970c3a",
   "metadata": {},
   "outputs": [],
   "source": [
    "df_unicef_u5mr_long_1950_1959 = df_unicef_u5mr_long[(df_unicef_u5mr_long.Year >= 1950) & (df_unicef_u5mr_long.Year < 1960)]"
   ]
  },
  {
   "cell_type": "code",
   "execution_count": 46,
   "id": "ab242c5c",
   "metadata": {},
   "outputs": [],
   "source": [
    "avg_50s_MR = df_unicef_u5mr_long_1950_1959.groupby([\"CountryName\"]).agg(Avg_Mortality = (\"Mortality_Per_1000_Live_Birth\", \"mean\")\n",
    "                                                         ).reset_index()"
   ]
  },
  {
   "cell_type": "code",
   "execution_count": 47,
   "id": "346f58ed",
   "metadata": {},
   "outputs": [
    {
     "data": {
      "text/html": [
       "<div>\n",
       "<style scoped>\n",
       "    .dataframe tbody tr th:only-of-type {\n",
       "        vertical-align: middle;\n",
       "    }\n",
       "\n",
       "    .dataframe tbody tr th {\n",
       "        vertical-align: top;\n",
       "    }\n",
       "\n",
       "    .dataframe thead th {\n",
       "        text-align: right;\n",
       "    }\n",
       "</style>\n",
       "<table border=\"1\" class=\"dataframe\">\n",
       "  <thead>\n",
       "    <tr style=\"text-align: right;\">\n",
       "      <th></th>\n",
       "      <th>CountryName</th>\n",
       "      <th>Avg_Mortality</th>\n",
       "    </tr>\n",
       "  </thead>\n",
       "  <tbody>\n",
       "    <tr>\n",
       "      <th>0</th>\n",
       "      <td>Afghanistan</td>\n",
       "      <td>207.218182</td>\n",
       "    </tr>\n",
       "    <tr>\n",
       "      <th>1</th>\n",
       "      <td>Albania</td>\n",
       "      <td>36.823684</td>\n",
       "    </tr>\n",
       "    <tr>\n",
       "      <th>2</th>\n",
       "      <td>Algeria</td>\n",
       "      <td>199.700968</td>\n",
       "    </tr>\n",
       "    <tr>\n",
       "      <th>3</th>\n",
       "      <td>Andorra</td>\n",
       "      <td>4.676923</td>\n",
       "    </tr>\n",
       "    <tr>\n",
       "      <th>4</th>\n",
       "      <td>Angola</td>\n",
       "      <td>210.836111</td>\n",
       "    </tr>\n",
       "  </tbody>\n",
       "</table>\n",
       "</div>"
      ],
      "text/plain": [
       "   CountryName  Avg_Mortality\n",
       "0  Afghanistan     207.218182\n",
       "1      Albania      36.823684\n",
       "2      Algeria     199.700968\n",
       "3      Andorra       4.676923\n",
       "4       Angola     210.836111"
      ]
     },
     "execution_count": 47,
     "metadata": {},
     "output_type": "execute_result"
    }
   ],
   "source": [
    "avg_50s_MR.head()"
   ]
  },
  {
   "cell_type": "code",
   "execution_count": 48,
   "id": "9c6ca756",
   "metadata": {},
   "outputs": [],
   "source": [
    "df_unicef_u5mr_long_2006_2015 = df_unicef_u5mr_long[(df_unicef_u5mr_long.Year >= 2006) & (df_unicef_u5mr_long.Year <= 2015)]"
   ]
  },
  {
   "cell_type": "code",
   "execution_count": 49,
   "id": "8bdb9a60",
   "metadata": {},
   "outputs": [],
   "source": [
    "avg_2006_2015_MR = df_unicef_u5mr_long_2006_2015.groupby([\"CountryName\"]).agg(Avg_Mortality = (\"Mortality_Per_1000_Live_Birth\", \"mean\")\n",
    "                                                         ).reset_index()"
   ]
  },
  {
   "cell_type": "code",
   "execution_count": 50,
   "id": "4ba2418b",
   "metadata": {},
   "outputs": [
    {
     "data": {
      "text/html": [
       "<div>\n",
       "<style scoped>\n",
       "    .dataframe tbody tr th:only-of-type {\n",
       "        vertical-align: middle;\n",
       "    }\n",
       "\n",
       "    .dataframe tbody tr th {\n",
       "        vertical-align: top;\n",
       "    }\n",
       "\n",
       "    .dataframe thead th {\n",
       "        text-align: right;\n",
       "    }\n",
       "</style>\n",
       "<table border=\"1\" class=\"dataframe\">\n",
       "  <thead>\n",
       "    <tr style=\"text-align: right;\">\n",
       "      <th></th>\n",
       "      <th>CountryName</th>\n",
       "      <th>Avg_Mortality</th>\n",
       "    </tr>\n",
       "  </thead>\n",
       "  <tbody>\n",
       "    <tr>\n",
       "      <th>0</th>\n",
       "      <td>Afghanistan</td>\n",
       "      <td>103.60</td>\n",
       "    </tr>\n",
       "    <tr>\n",
       "      <th>1</th>\n",
       "      <td>Albania</td>\n",
       "      <td>16.48</td>\n",
       "    </tr>\n",
       "    <tr>\n",
       "      <th>2</th>\n",
       "      <td>Algeria</td>\n",
       "      <td>27.74</td>\n",
       "    </tr>\n",
       "    <tr>\n",
       "      <th>3</th>\n",
       "      <td>Andorra</td>\n",
       "      <td>3.25</td>\n",
       "    </tr>\n",
       "    <tr>\n",
       "      <th>4</th>\n",
       "      <td>Angola</td>\n",
       "      <td>179.44</td>\n",
       "    </tr>\n",
       "  </tbody>\n",
       "</table>\n",
       "</div>"
      ],
      "text/plain": [
       "   CountryName  Avg_Mortality\n",
       "0  Afghanistan         103.60\n",
       "1      Albania          16.48\n",
       "2      Algeria          27.74\n",
       "3      Andorra           3.25\n",
       "4       Angola         179.44"
      ]
     },
     "execution_count": 50,
     "metadata": {},
     "output_type": "execute_result"
    }
   ],
   "source": [
    "avg_2006_2015_MR.head()"
   ]
  },
  {
   "cell_type": "code",
   "execution_count": 51,
   "id": "3da89c50",
   "metadata": {},
   "outputs": [],
   "source": [
    "merged_MR = pd.merge(avg_2006_2015_MR, avg_50s_MR , how = \"inner\", on = \"CountryName\")"
   ]
  },
  {
   "cell_type": "code",
   "execution_count": 52,
   "id": "d20a8580",
   "metadata": {},
   "outputs": [
    {
     "data": {
      "text/html": [
       "<div>\n",
       "<style scoped>\n",
       "    .dataframe tbody tr th:only-of-type {\n",
       "        vertical-align: middle;\n",
       "    }\n",
       "\n",
       "    .dataframe tbody tr th {\n",
       "        vertical-align: top;\n",
       "    }\n",
       "\n",
       "    .dataframe thead th {\n",
       "        text-align: right;\n",
       "    }\n",
       "</style>\n",
       "<table border=\"1\" class=\"dataframe\">\n",
       "  <thead>\n",
       "    <tr style=\"text-align: right;\">\n",
       "      <th></th>\n",
       "      <th>CountryName</th>\n",
       "      <th>Avg_Mortality_x</th>\n",
       "      <th>Avg_Mortality_y</th>\n",
       "    </tr>\n",
       "  </thead>\n",
       "  <tbody>\n",
       "    <tr>\n",
       "      <th>0</th>\n",
       "      <td>Afghanistan</td>\n",
       "      <td>103.60</td>\n",
       "      <td>207.218182</td>\n",
       "    </tr>\n",
       "    <tr>\n",
       "      <th>1</th>\n",
       "      <td>Albania</td>\n",
       "      <td>16.48</td>\n",
       "      <td>36.823684</td>\n",
       "    </tr>\n",
       "    <tr>\n",
       "      <th>2</th>\n",
       "      <td>Algeria</td>\n",
       "      <td>27.74</td>\n",
       "      <td>199.700968</td>\n",
       "    </tr>\n",
       "    <tr>\n",
       "      <th>3</th>\n",
       "      <td>Andorra</td>\n",
       "      <td>3.25</td>\n",
       "      <td>4.676923</td>\n",
       "    </tr>\n",
       "    <tr>\n",
       "      <th>4</th>\n",
       "      <td>Angola</td>\n",
       "      <td>179.44</td>\n",
       "      <td>210.836111</td>\n",
       "    </tr>\n",
       "  </tbody>\n",
       "</table>\n",
       "</div>"
      ],
      "text/plain": [
       "   CountryName  Avg_Mortality_x  Avg_Mortality_y\n",
       "0  Afghanistan           103.60       207.218182\n",
       "1      Albania            16.48        36.823684\n",
       "2      Algeria            27.74       199.700968\n",
       "3      Andorra             3.25         4.676923\n",
       "4       Angola           179.44       210.836111"
      ]
     },
     "execution_count": 52,
     "metadata": {},
     "output_type": "execute_result"
    }
   ],
   "source": [
    "merged_MR.head()"
   ]
  },
  {
   "cell_type": "code",
   "execution_count": 53,
   "id": "bd34ec5d",
   "metadata": {},
   "outputs": [],
   "source": [
    "merged_MR.columns = [\"CountryName\", \"2006_2015_MR\", \"1950_1959_MR\"]"
   ]
  },
  {
   "cell_type": "code",
   "execution_count": 54,
   "id": "51a8bcdb",
   "metadata": {},
   "outputs": [
    {
     "data": {
      "text/html": [
       "<div>\n",
       "<style scoped>\n",
       "    .dataframe tbody tr th:only-of-type {\n",
       "        vertical-align: middle;\n",
       "    }\n",
       "\n",
       "    .dataframe tbody tr th {\n",
       "        vertical-align: top;\n",
       "    }\n",
       "\n",
       "    .dataframe thead th {\n",
       "        text-align: right;\n",
       "    }\n",
       "</style>\n",
       "<table border=\"1\" class=\"dataframe\">\n",
       "  <thead>\n",
       "    <tr style=\"text-align: right;\">\n",
       "      <th></th>\n",
       "      <th>CountryName</th>\n",
       "      <th>2006_2015_MR</th>\n",
       "      <th>1950_1959_MR</th>\n",
       "    </tr>\n",
       "  </thead>\n",
       "  <tbody>\n",
       "    <tr>\n",
       "      <th>0</th>\n",
       "      <td>Afghanistan</td>\n",
       "      <td>103.60</td>\n",
       "      <td>207.218182</td>\n",
       "    </tr>\n",
       "    <tr>\n",
       "      <th>1</th>\n",
       "      <td>Albania</td>\n",
       "      <td>16.48</td>\n",
       "      <td>36.823684</td>\n",
       "    </tr>\n",
       "    <tr>\n",
       "      <th>2</th>\n",
       "      <td>Algeria</td>\n",
       "      <td>27.74</td>\n",
       "      <td>199.700968</td>\n",
       "    </tr>\n",
       "    <tr>\n",
       "      <th>3</th>\n",
       "      <td>Andorra</td>\n",
       "      <td>3.25</td>\n",
       "      <td>4.676923</td>\n",
       "    </tr>\n",
       "    <tr>\n",
       "      <th>4</th>\n",
       "      <td>Angola</td>\n",
       "      <td>179.44</td>\n",
       "      <td>210.836111</td>\n",
       "    </tr>\n",
       "  </tbody>\n",
       "</table>\n",
       "</div>"
      ],
      "text/plain": [
       "   CountryName  2006_2015_MR  1950_1959_MR\n",
       "0  Afghanistan        103.60    207.218182\n",
       "1      Albania         16.48     36.823684\n",
       "2      Algeria         27.74    199.700968\n",
       "3      Andorra          3.25      4.676923\n",
       "4       Angola        179.44    210.836111"
      ]
     },
     "execution_count": 54,
     "metadata": {},
     "output_type": "execute_result"
    }
   ],
   "source": [
    "merged_MR.head()"
   ]
  },
  {
   "cell_type": "code",
   "execution_count": 55,
   "id": "b85546cd",
   "metadata": {},
   "outputs": [],
   "source": [
    "merged_MR[\"diff\"] =  (merged_MR[\"2006_2015_MR\"] - merged_MR[\"1950_1959_MR\"])\n",
    "merged_MR[\"percentage_diff\"] =  ((merged_MR[\"2006_2015_MR\"] - merged_MR[\"1950_1959_MR\"]) / merged_MR[\"1950_1959_MR\"])"
   ]
  },
  {
   "cell_type": "code",
   "execution_count": 56,
   "id": "dc1269aa",
   "metadata": {},
   "outputs": [
    {
     "data": {
      "text/html": [
       "<div>\n",
       "<style scoped>\n",
       "    .dataframe tbody tr th:only-of-type {\n",
       "        vertical-align: middle;\n",
       "    }\n",
       "\n",
       "    .dataframe tbody tr th {\n",
       "        vertical-align: top;\n",
       "    }\n",
       "\n",
       "    .dataframe thead th {\n",
       "        text-align: right;\n",
       "    }\n",
       "</style>\n",
       "<table border=\"1\" class=\"dataframe\">\n",
       "  <thead>\n",
       "    <tr style=\"text-align: right;\">\n",
       "      <th></th>\n",
       "      <th>CountryName</th>\n",
       "      <th>2006_2015_MR</th>\n",
       "      <th>1950_1959_MR</th>\n",
       "      <th>diff</th>\n",
       "      <th>percentage_diff</th>\n",
       "    </tr>\n",
       "  </thead>\n",
       "  <tbody>\n",
       "    <tr>\n",
       "      <th>0</th>\n",
       "      <td>Afghanistan</td>\n",
       "      <td>103.60</td>\n",
       "      <td>207.218182</td>\n",
       "      <td>-103.618182</td>\n",
       "      <td>-0.500044</td>\n",
       "    </tr>\n",
       "    <tr>\n",
       "      <th>1</th>\n",
       "      <td>Albania</td>\n",
       "      <td>16.48</td>\n",
       "      <td>36.823684</td>\n",
       "      <td>-20.343684</td>\n",
       "      <td>-0.552462</td>\n",
       "    </tr>\n",
       "    <tr>\n",
       "      <th>2</th>\n",
       "      <td>Algeria</td>\n",
       "      <td>27.74</td>\n",
       "      <td>199.700968</td>\n",
       "      <td>-171.960968</td>\n",
       "      <td>-0.861092</td>\n",
       "    </tr>\n",
       "    <tr>\n",
       "      <th>3</th>\n",
       "      <td>Andorra</td>\n",
       "      <td>3.25</td>\n",
       "      <td>4.676923</td>\n",
       "      <td>-1.426923</td>\n",
       "      <td>-0.305099</td>\n",
       "    </tr>\n",
       "    <tr>\n",
       "      <th>4</th>\n",
       "      <td>Angola</td>\n",
       "      <td>179.44</td>\n",
       "      <td>210.836111</td>\n",
       "      <td>-31.396111</td>\n",
       "      <td>-0.148912</td>\n",
       "    </tr>\n",
       "  </tbody>\n",
       "</table>\n",
       "</div>"
      ],
      "text/plain": [
       "   CountryName  2006_2015_MR  1950_1959_MR        diff  percentage_diff\n",
       "0  Afghanistan        103.60    207.218182 -103.618182        -0.500044\n",
       "1      Albania         16.48     36.823684  -20.343684        -0.552462\n",
       "2      Algeria         27.74    199.700968 -171.960968        -0.861092\n",
       "3      Andorra          3.25      4.676923   -1.426923        -0.305099\n",
       "4       Angola        179.44    210.836111  -31.396111        -0.148912"
      ]
     },
     "execution_count": 56,
     "metadata": {},
     "output_type": "execute_result"
    }
   ],
   "source": [
    "merged_MR.head()"
   ]
  },
  {
   "cell_type": "markdown",
   "id": "f0b3acad",
   "metadata": {},
   "source": [
    "### 10 Countries with highest percentage reduction in Under 5 Mortality rate"
   ]
  },
  {
   "cell_type": "code",
   "execution_count": 57,
   "id": "63870635",
   "metadata": {},
   "outputs": [
    {
     "data": {
      "text/html": [
       "<div>\n",
       "<style scoped>\n",
       "    .dataframe tbody tr th:only-of-type {\n",
       "        vertical-align: middle;\n",
       "    }\n",
       "\n",
       "    .dataframe tbody tr th {\n",
       "        vertical-align: top;\n",
       "    }\n",
       "\n",
       "    .dataframe thead th {\n",
       "        text-align: right;\n",
       "    }\n",
       "</style>\n",
       "<table border=\"1\" class=\"dataframe\">\n",
       "  <thead>\n",
       "    <tr style=\"text-align: right;\">\n",
       "      <th></th>\n",
       "      <th>CountryName</th>\n",
       "      <th>2006_2015_MR</th>\n",
       "      <th>1950_1959_MR</th>\n",
       "      <th>diff</th>\n",
       "      <th>percentage_diff</th>\n",
       "    </tr>\n",
       "  </thead>\n",
       "  <tbody>\n",
       "    <tr>\n",
       "      <th>91</th>\n",
       "      <td>Korea Rep</td>\n",
       "      <td>4.14</td>\n",
       "      <td>183.418000</td>\n",
       "      <td>-179.278000</td>\n",
       "      <td>-0.977429</td>\n",
       "    </tr>\n",
       "    <tr>\n",
       "      <th>139</th>\n",
       "      <td>Portugal</td>\n",
       "      <td>3.93</td>\n",
       "      <td>90.285484</td>\n",
       "      <td>-86.355484</td>\n",
       "      <td>-0.956471</td>\n",
       "    </tr>\n",
       "    <tr>\n",
       "      <th>85</th>\n",
       "      <td>Japan</td>\n",
       "      <td>3.18</td>\n",
       "      <td>63.240000</td>\n",
       "      <td>-60.060000</td>\n",
       "      <td>-0.949715</td>\n",
       "    </tr>\n",
       "    <tr>\n",
       "      <th>161</th>\n",
       "      <td>Spain</td>\n",
       "      <td>4.66</td>\n",
       "      <td>80.880000</td>\n",
       "      <td>-76.220000</td>\n",
       "      <td>-0.942384</td>\n",
       "    </tr>\n",
       "    <tr>\n",
       "      <th>83</th>\n",
       "      <td>Italy</td>\n",
       "      <td>3.92</td>\n",
       "      <td>66.950000</td>\n",
       "      <td>-63.030000</td>\n",
       "      <td>-0.941449</td>\n",
       "    </tr>\n",
       "    <tr>\n",
       "      <th>154</th>\n",
       "      <td>Singapore</td>\n",
       "      <td>2.81</td>\n",
       "      <td>46.286774</td>\n",
       "      <td>-43.476774</td>\n",
       "      <td>-0.939292</td>\n",
       "    </tr>\n",
       "    <tr>\n",
       "      <th>12</th>\n",
       "      <td>Bahrain</td>\n",
       "      <td>8.17</td>\n",
       "      <td>134.443000</td>\n",
       "      <td>-126.273000</td>\n",
       "      <td>-0.939231</td>\n",
       "    </tr>\n",
       "    <tr>\n",
       "      <th>40</th>\n",
       "      <td>Cook Islands</td>\n",
       "      <td>9.86</td>\n",
       "      <td>144.964154</td>\n",
       "      <td>-135.104154</td>\n",
       "      <td>-0.931983</td>\n",
       "    </tr>\n",
       "    <tr>\n",
       "      <th>173</th>\n",
       "      <td>Thailand</td>\n",
       "      <td>14.39</td>\n",
       "      <td>180.270000</td>\n",
       "      <td>-165.880000</td>\n",
       "      <td>-0.920175</td>\n",
       "    </tr>\n",
       "    <tr>\n",
       "      <th>179</th>\n",
       "      <td>Turkey</td>\n",
       "      <td>18.90</td>\n",
       "      <td>226.589524</td>\n",
       "      <td>-207.689524</td>\n",
       "      <td>-0.916589</td>\n",
       "    </tr>\n",
       "  </tbody>\n",
       "</table>\n",
       "</div>"
      ],
      "text/plain": [
       "      CountryName  2006_2015_MR  1950_1959_MR        diff  percentage_diff\n",
       "91      Korea Rep          4.14    183.418000 -179.278000        -0.977429\n",
       "139      Portugal          3.93     90.285484  -86.355484        -0.956471\n",
       "85          Japan          3.18     63.240000  -60.060000        -0.949715\n",
       "161         Spain          4.66     80.880000  -76.220000        -0.942384\n",
       "83          Italy          3.92     66.950000  -63.030000        -0.941449\n",
       "154     Singapore          2.81     46.286774  -43.476774        -0.939292\n",
       "12        Bahrain          8.17    134.443000 -126.273000        -0.939231\n",
       "40   Cook Islands          9.86    144.964154 -135.104154        -0.931983\n",
       "173      Thailand         14.39    180.270000 -165.880000        -0.920175\n",
       "179        Turkey         18.90    226.589524 -207.689524        -0.916589"
      ]
     },
     "execution_count": 57,
     "metadata": {},
     "output_type": "execute_result"
    }
   ],
   "source": [
    "merged_MR.sort_values(\"percentage_diff\").head(10)"
   ]
  },
  {
   "cell_type": "markdown",
   "id": "4f835308",
   "metadata": {},
   "source": [
    "### 10 Countries with highest absolute reduction in Under 5 Mortality rate"
   ]
  },
  {
   "cell_type": "code",
   "execution_count": 58,
   "id": "e4c12a6c",
   "metadata": {},
   "outputs": [
    {
     "data": {
      "text/html": [
       "<div>\n",
       "<style scoped>\n",
       "    .dataframe tbody tr th:only-of-type {\n",
       "        vertical-align: middle;\n",
       "    }\n",
       "\n",
       "    .dataframe tbody tr th {\n",
       "        vertical-align: top;\n",
       "    }\n",
       "\n",
       "    .dataframe thead th {\n",
       "        text-align: right;\n",
       "    }\n",
       "</style>\n",
       "<table border=\"1\" class=\"dataframe\">\n",
       "  <thead>\n",
       "    <tr style=\"text-align: right;\">\n",
       "      <th></th>\n",
       "      <th>CountryName</th>\n",
       "      <th>2006_2015_MR</th>\n",
       "      <th>1950_1959_MR</th>\n",
       "      <th>diff</th>\n",
       "      <th>percentage_diff</th>\n",
       "    </tr>\n",
       "  </thead>\n",
       "  <tbody>\n",
       "    <tr>\n",
       "      <th>26</th>\n",
       "      <td>Burkina Faso</td>\n",
       "      <td>114.05</td>\n",
       "      <td>373.090000</td>\n",
       "      <td>-259.040000</td>\n",
       "      <td>-0.694310</td>\n",
       "    </tr>\n",
       "    <tr>\n",
       "      <th>150</th>\n",
       "      <td>Senegal</td>\n",
       "      <td>64.68</td>\n",
       "      <td>323.010000</td>\n",
       "      <td>-258.330000</td>\n",
       "      <td>-0.799759</td>\n",
       "    </tr>\n",
       "    <tr>\n",
       "      <th>80</th>\n",
       "      <td>Iraq</td>\n",
       "      <td>36.07</td>\n",
       "      <td>279.930000</td>\n",
       "      <td>-243.860000</td>\n",
       "      <td>-0.871146</td>\n",
       "    </tr>\n",
       "    <tr>\n",
       "      <th>18</th>\n",
       "      <td>Benin</td>\n",
       "      <td>110.56</td>\n",
       "      <td>333.960000</td>\n",
       "      <td>-223.400000</td>\n",
       "      <td>-0.668942</td>\n",
       "    </tr>\n",
       "    <tr>\n",
       "      <th>131</th>\n",
       "      <td>Pakistan</td>\n",
       "      <td>90.54</td>\n",
       "      <td>311.512000</td>\n",
       "      <td>-220.972000</td>\n",
       "      <td>-0.709353</td>\n",
       "    </tr>\n",
       "    <tr>\n",
       "      <th>52</th>\n",
       "      <td>Egypt</td>\n",
       "      <td>28.67</td>\n",
       "      <td>244.938525</td>\n",
       "      <td>-216.268525</td>\n",
       "      <td>-0.882950</td>\n",
       "    </tr>\n",
       "    <tr>\n",
       "      <th>136</th>\n",
       "      <td>Peru</td>\n",
       "      <td>20.85</td>\n",
       "      <td>236.804063</td>\n",
       "      <td>-215.954063</td>\n",
       "      <td>-0.911953</td>\n",
       "    </tr>\n",
       "    <tr>\n",
       "      <th>175</th>\n",
       "      <td>Togo</td>\n",
       "      <td>89.88</td>\n",
       "      <td>301.640000</td>\n",
       "      <td>-211.760000</td>\n",
       "      <td>-0.702029</td>\n",
       "    </tr>\n",
       "    <tr>\n",
       "      <th>78</th>\n",
       "      <td>Indonesia</td>\n",
       "      <td>32.83</td>\n",
       "      <td>243.636462</td>\n",
       "      <td>-210.806462</td>\n",
       "      <td>-0.865250</td>\n",
       "    </tr>\n",
       "    <tr>\n",
       "      <th>13</th>\n",
       "      <td>Bangladesh</td>\n",
       "      <td>48.99</td>\n",
       "      <td>257.451429</td>\n",
       "      <td>-208.461429</td>\n",
       "      <td>-0.809712</td>\n",
       "    </tr>\n",
       "  </tbody>\n",
       "</table>\n",
       "</div>"
      ],
      "text/plain": [
       "      CountryName  2006_2015_MR  1950_1959_MR        diff  percentage_diff\n",
       "26   Burkina Faso        114.05    373.090000 -259.040000        -0.694310\n",
       "150       Senegal         64.68    323.010000 -258.330000        -0.799759\n",
       "80           Iraq         36.07    279.930000 -243.860000        -0.871146\n",
       "18          Benin        110.56    333.960000 -223.400000        -0.668942\n",
       "131      Pakistan         90.54    311.512000 -220.972000        -0.709353\n",
       "52          Egypt         28.67    244.938525 -216.268525        -0.882950\n",
       "136          Peru         20.85    236.804063 -215.954063        -0.911953\n",
       "175          Togo         89.88    301.640000 -211.760000        -0.702029\n",
       "78      Indonesia         32.83    243.636462 -210.806462        -0.865250\n",
       "13     Bangladesh         48.99    257.451429 -208.461429        -0.809712"
      ]
     },
     "execution_count": 58,
     "metadata": {},
     "output_type": "execute_result"
    }
   ],
   "source": [
    "merged_MR.sort_values(\"diff\").head(10)"
   ]
  },
  {
   "cell_type": "code",
   "execution_count": null,
   "id": "16941457",
   "metadata": {},
   "outputs": [],
   "source": []
  },
  {
   "cell_type": "code",
   "execution_count": null,
   "id": "ef5337f4",
   "metadata": {},
   "outputs": [],
   "source": []
  },
  {
   "cell_type": "code",
   "execution_count": null,
   "id": "d73d67f4",
   "metadata": {},
   "outputs": [],
   "source": []
  },
  {
   "cell_type": "code",
   "execution_count": null,
   "id": "c9ff4c56",
   "metadata": {},
   "outputs": [],
   "source": []
  },
  {
   "cell_type": "markdown",
   "id": "ef8b6e86",
   "metadata": {},
   "source": [
    "## Titanic Dataset"
   ]
  },
  {
   "cell_type": "code",
   "execution_count": 59,
   "id": "fa868ab2",
   "metadata": {},
   "outputs": [],
   "source": [
    "df_titanic_raw = pd.read_csv(\"03 Titanic.csv\")"
   ]
  },
  {
   "cell_type": "code",
   "execution_count": 60,
   "id": "873e4e1c",
   "metadata": {},
   "outputs": [
    {
     "data": {
      "text/html": [
       "<div>\n",
       "<style scoped>\n",
       "    .dataframe tbody tr th:only-of-type {\n",
       "        vertical-align: middle;\n",
       "    }\n",
       "\n",
       "    .dataframe tbody tr th {\n",
       "        vertical-align: top;\n",
       "    }\n",
       "\n",
       "    .dataframe thead th {\n",
       "        text-align: right;\n",
       "    }\n",
       "</style>\n",
       "<table border=\"1\" class=\"dataframe\">\n",
       "  <thead>\n",
       "    <tr style=\"text-align: right;\">\n",
       "      <th></th>\n",
       "      <th>PassengerId</th>\n",
       "      <th>Survived</th>\n",
       "      <th>Pclass</th>\n",
       "      <th>Name</th>\n",
       "      <th>Sex</th>\n",
       "      <th>Age</th>\n",
       "      <th>SibSp</th>\n",
       "      <th>Parch</th>\n",
       "      <th>Ticket</th>\n",
       "      <th>Fare</th>\n",
       "      <th>Cabin</th>\n",
       "      <th>Embarked</th>\n",
       "    </tr>\n",
       "  </thead>\n",
       "  <tbody>\n",
       "    <tr>\n",
       "      <th>0</th>\n",
       "      <td>1</td>\n",
       "      <td>0</td>\n",
       "      <td>3</td>\n",
       "      <td>Braund, Mr. Owen Harris</td>\n",
       "      <td>male</td>\n",
       "      <td>22.0</td>\n",
       "      <td>1</td>\n",
       "      <td>0</td>\n",
       "      <td>A/5 21171</td>\n",
       "      <td>7.2500</td>\n",
       "      <td>NaN</td>\n",
       "      <td>S</td>\n",
       "    </tr>\n",
       "    <tr>\n",
       "      <th>1</th>\n",
       "      <td>2</td>\n",
       "      <td>1</td>\n",
       "      <td>1</td>\n",
       "      <td>Cumings, Mrs. John Bradley (Florence Briggs Th...</td>\n",
       "      <td>female</td>\n",
       "      <td>38.0</td>\n",
       "      <td>1</td>\n",
       "      <td>0</td>\n",
       "      <td>PC 17599</td>\n",
       "      <td>71.2833</td>\n",
       "      <td>C85</td>\n",
       "      <td>C</td>\n",
       "    </tr>\n",
       "    <tr>\n",
       "      <th>2</th>\n",
       "      <td>3</td>\n",
       "      <td>1</td>\n",
       "      <td>3</td>\n",
       "      <td>Heikkinen, Miss. Laina</td>\n",
       "      <td>female</td>\n",
       "      <td>26.0</td>\n",
       "      <td>0</td>\n",
       "      <td>0</td>\n",
       "      <td>STON/O2. 3101282</td>\n",
       "      <td>7.9250</td>\n",
       "      <td>NaN</td>\n",
       "      <td>S</td>\n",
       "    </tr>\n",
       "    <tr>\n",
       "      <th>3</th>\n",
       "      <td>4</td>\n",
       "      <td>1</td>\n",
       "      <td>1</td>\n",
       "      <td>Futrelle, Mrs. Jacques Heath (Lily May Peel)</td>\n",
       "      <td>female</td>\n",
       "      <td>35.0</td>\n",
       "      <td>1</td>\n",
       "      <td>0</td>\n",
       "      <td>113803</td>\n",
       "      <td>53.1000</td>\n",
       "      <td>C123</td>\n",
       "      <td>S</td>\n",
       "    </tr>\n",
       "    <tr>\n",
       "      <th>4</th>\n",
       "      <td>5</td>\n",
       "      <td>0</td>\n",
       "      <td>3</td>\n",
       "      <td>Allen, Mr. William Henry</td>\n",
       "      <td>male</td>\n",
       "      <td>35.0</td>\n",
       "      <td>0</td>\n",
       "      <td>0</td>\n",
       "      <td>373450</td>\n",
       "      <td>8.0500</td>\n",
       "      <td>NaN</td>\n",
       "      <td>S</td>\n",
       "    </tr>\n",
       "  </tbody>\n",
       "</table>\n",
       "</div>"
      ],
      "text/plain": [
       "   PassengerId  Survived  Pclass  \\\n",
       "0            1         0       3   \n",
       "1            2         1       1   \n",
       "2            3         1       3   \n",
       "3            4         1       1   \n",
       "4            5         0       3   \n",
       "\n",
       "                                                Name     Sex   Age  SibSp  \\\n",
       "0                            Braund, Mr. Owen Harris    male  22.0      1   \n",
       "1  Cumings, Mrs. John Bradley (Florence Briggs Th...  female  38.0      1   \n",
       "2                             Heikkinen, Miss. Laina  female  26.0      0   \n",
       "3       Futrelle, Mrs. Jacques Heath (Lily May Peel)  female  35.0      1   \n",
       "4                           Allen, Mr. William Henry    male  35.0      0   \n",
       "\n",
       "   Parch            Ticket     Fare Cabin Embarked  \n",
       "0      0         A/5 21171   7.2500   NaN        S  \n",
       "1      0          PC 17599  71.2833   C85        C  \n",
       "2      0  STON/O2. 3101282   7.9250   NaN        S  \n",
       "3      0            113803  53.1000  C123        S  \n",
       "4      0            373450   8.0500   NaN        S  "
      ]
     },
     "execution_count": 60,
     "metadata": {},
     "output_type": "execute_result"
    }
   ],
   "source": [
    "df_titanic_raw.head()"
   ]
  },
  {
   "cell_type": "code",
   "execution_count": 61,
   "id": "ec1111e4",
   "metadata": {},
   "outputs": [
    {
     "data": {
      "text/plain": [
       "(891, 12)"
      ]
     },
     "execution_count": 61,
     "metadata": {},
     "output_type": "execute_result"
    }
   ],
   "source": [
    "df_titanic_raw.shape"
   ]
  },
  {
   "cell_type": "code",
   "execution_count": 62,
   "id": "58ca6b9e",
   "metadata": {},
   "outputs": [
    {
     "data": {
      "text/plain": [
       "PassengerId      int64\n",
       "Survived         int64\n",
       "Pclass           int64\n",
       "Name            object\n",
       "Sex             object\n",
       "Age            float64\n",
       "SibSp            int64\n",
       "Parch            int64\n",
       "Ticket          object\n",
       "Fare           float64\n",
       "Cabin           object\n",
       "Embarked        object\n",
       "dtype: object"
      ]
     },
     "execution_count": 62,
     "metadata": {},
     "output_type": "execute_result"
    }
   ],
   "source": [
    "df_titanic_raw.dtypes"
   ]
  },
  {
   "cell_type": "code",
   "execution_count": 63,
   "id": "d5f1498f",
   "metadata": {},
   "outputs": [],
   "source": [
    "## Renaming Columns\n",
    "df_titanic_raw.columns = ['PassengerId', 'Survived', 'PassengerClass', 'Name', 'Sex', 'Age', 'SibSp',\n",
    "       'Parch', 'Ticket', 'Fare', 'Cabin', 'Embarked']"
   ]
  },
  {
   "cell_type": "code",
   "execution_count": 64,
   "id": "0329b3e2",
   "metadata": {
    "scrolled": true
   },
   "outputs": [
    {
     "data": {
      "text/plain": [
       "PassengerId         0\n",
       "Survived            0\n",
       "PassengerClass      0\n",
       "Name                0\n",
       "Sex                 0\n",
       "Age               177\n",
       "SibSp               0\n",
       "Parch               0\n",
       "Ticket              0\n",
       "Fare                0\n",
       "Cabin             687\n",
       "Embarked            2\n",
       "dtype: int64"
      ]
     },
     "execution_count": 64,
     "metadata": {},
     "output_type": "execute_result"
    }
   ],
   "source": [
    "df_titanic_raw.isnull().sum()"
   ]
  },
  {
   "cell_type": "markdown",
   "id": "3131f4f2",
   "metadata": {},
   "source": [
    "#### We will replace Null in age with mean value. We will use Mean at Sex x Passenger Class Level to fill null values. This is because average age will be different across gender and passenger class"
   ]
  },
  {
   "cell_type": "code",
   "execution_count": 65,
   "id": "876ebc40",
   "metadata": {},
   "outputs": [
    {
     "data": {
      "text/html": [
       "<div>\n",
       "<style scoped>\n",
       "    .dataframe tbody tr th:only-of-type {\n",
       "        vertical-align: middle;\n",
       "    }\n",
       "\n",
       "    .dataframe tbody tr th {\n",
       "        vertical-align: top;\n",
       "    }\n",
       "\n",
       "    .dataframe thead th {\n",
       "        text-align: right;\n",
       "    }\n",
       "</style>\n",
       "<table border=\"1\" class=\"dataframe\">\n",
       "  <thead>\n",
       "    <tr style=\"text-align: right;\">\n",
       "      <th></th>\n",
       "      <th>Sex</th>\n",
       "      <th>PassengerClass</th>\n",
       "      <th>Age</th>\n",
       "    </tr>\n",
       "  </thead>\n",
       "  <tbody>\n",
       "    <tr>\n",
       "      <th>0</th>\n",
       "      <td>female</td>\n",
       "      <td>1</td>\n",
       "      <td>34.611765</td>\n",
       "    </tr>\n",
       "    <tr>\n",
       "      <th>1</th>\n",
       "      <td>female</td>\n",
       "      <td>2</td>\n",
       "      <td>28.722973</td>\n",
       "    </tr>\n",
       "    <tr>\n",
       "      <th>2</th>\n",
       "      <td>female</td>\n",
       "      <td>3</td>\n",
       "      <td>21.750000</td>\n",
       "    </tr>\n",
       "    <tr>\n",
       "      <th>3</th>\n",
       "      <td>male</td>\n",
       "      <td>1</td>\n",
       "      <td>41.281386</td>\n",
       "    </tr>\n",
       "    <tr>\n",
       "      <th>4</th>\n",
       "      <td>male</td>\n",
       "      <td>2</td>\n",
       "      <td>30.740707</td>\n",
       "    </tr>\n",
       "    <tr>\n",
       "      <th>5</th>\n",
       "      <td>male</td>\n",
       "      <td>3</td>\n",
       "      <td>26.507589</td>\n",
       "    </tr>\n",
       "  </tbody>\n",
       "</table>\n",
       "</div>"
      ],
      "text/plain": [
       "      Sex  PassengerClass        Age\n",
       "0  female               1  34.611765\n",
       "1  female               2  28.722973\n",
       "2  female               3  21.750000\n",
       "3    male               1  41.281386\n",
       "4    male               2  30.740707\n",
       "5    male               3  26.507589"
      ]
     },
     "execution_count": 65,
     "metadata": {},
     "output_type": "execute_result"
    }
   ],
   "source": [
    "df_titanic_raw.groupby(['Sex', \"PassengerClass\"], as_index=False)[[\"Age\"]].mean()"
   ]
  },
  {
   "cell_type": "code",
   "execution_count": 66,
   "id": "97b2833e",
   "metadata": {
    "scrolled": true
   },
   "outputs": [],
   "source": [
    "df_titanic_raw['Age'] = df_titanic_raw['Age'].fillna(df_titanic_raw.groupby(['Sex', 'PassengerClass'])['Age'].transform('mean'))"
   ]
  },
  {
   "cell_type": "code",
   "execution_count": 67,
   "id": "6236923c",
   "metadata": {},
   "outputs": [
    {
     "data": {
      "text/plain": [
       "PassengerId         0\n",
       "Survived            0\n",
       "PassengerClass      0\n",
       "Name                0\n",
       "Sex                 0\n",
       "Age                 0\n",
       "SibSp               0\n",
       "Parch               0\n",
       "Ticket              0\n",
       "Fare                0\n",
       "Cabin             687\n",
       "Embarked            2\n",
       "dtype: int64"
      ]
     },
     "execution_count": 67,
     "metadata": {},
     "output_type": "execute_result"
    }
   ],
   "source": [
    "df_titanic_raw.isnull().sum()"
   ]
  },
  {
   "cell_type": "markdown",
   "id": "7b6e1ca3",
   "metadata": {},
   "source": [
    "#### We will replace Null in Fare column of Average Fare that passenger class"
   ]
  },
  {
   "cell_type": "code",
   "execution_count": 68,
   "id": "20bda0a3",
   "metadata": {},
   "outputs": [
    {
     "data": {
      "text/html": [
       "<div>\n",
       "<style scoped>\n",
       "    .dataframe tbody tr th:only-of-type {\n",
       "        vertical-align: middle;\n",
       "    }\n",
       "\n",
       "    .dataframe tbody tr th {\n",
       "        vertical-align: top;\n",
       "    }\n",
       "\n",
       "    .dataframe thead th {\n",
       "        text-align: right;\n",
       "    }\n",
       "</style>\n",
       "<table border=\"1\" class=\"dataframe\">\n",
       "  <thead>\n",
       "    <tr style=\"text-align: right;\">\n",
       "      <th></th>\n",
       "      <th>PassengerClass</th>\n",
       "      <th>Fare</th>\n",
       "    </tr>\n",
       "  </thead>\n",
       "  <tbody>\n",
       "    <tr>\n",
       "      <th>0</th>\n",
       "      <td>1</td>\n",
       "      <td>84.154687</td>\n",
       "    </tr>\n",
       "    <tr>\n",
       "      <th>1</th>\n",
       "      <td>2</td>\n",
       "      <td>20.662183</td>\n",
       "    </tr>\n",
       "    <tr>\n",
       "      <th>2</th>\n",
       "      <td>3</td>\n",
       "      <td>13.675550</td>\n",
       "    </tr>\n",
       "  </tbody>\n",
       "</table>\n",
       "</div>"
      ],
      "text/plain": [
       "   PassengerClass       Fare\n",
       "0               1  84.154687\n",
       "1               2  20.662183\n",
       "2               3  13.675550"
      ]
     },
     "execution_count": 68,
     "metadata": {},
     "output_type": "execute_result"
    }
   ],
   "source": [
    "df_titanic_raw.groupby([\"PassengerClass\"], as_index=False)[[\"Fare\"]].mean()"
   ]
  },
  {
   "cell_type": "code",
   "execution_count": 69,
   "id": "00686f0f",
   "metadata": {},
   "outputs": [],
   "source": [
    "df_titanic_raw['Fare'] = df_titanic_raw['Fare'].fillna(df_titanic_raw.groupby(['PassengerClass'])['Fare'].transform('mean'))"
   ]
  },
  {
   "cell_type": "code",
   "execution_count": 70,
   "id": "afbc2f88",
   "metadata": {},
   "outputs": [
    {
     "data": {
      "text/plain": [
       "PassengerId         0\n",
       "Survived            0\n",
       "PassengerClass      0\n",
       "Name                0\n",
       "Sex                 0\n",
       "Age                 0\n",
       "SibSp               0\n",
       "Parch               0\n",
       "Ticket              0\n",
       "Fare                0\n",
       "Cabin             687\n",
       "Embarked            2\n",
       "dtype: int64"
      ]
     },
     "execution_count": 70,
     "metadata": {},
     "output_type": "execute_result"
    }
   ],
   "source": [
    "df_titanic_raw.isnull().sum()"
   ]
  },
  {
   "cell_type": "markdown",
   "id": "aaa86e5d",
   "metadata": {},
   "source": [
    "#### We will replace Null in Embarked Column with mode"
   ]
  },
  {
   "cell_type": "code",
   "execution_count": 71,
   "id": "81ba6f3f",
   "metadata": {},
   "outputs": [
    {
     "data": {
      "text/html": [
       "<div>\n",
       "<style scoped>\n",
       "    .dataframe tbody tr th:only-of-type {\n",
       "        vertical-align: middle;\n",
       "    }\n",
       "\n",
       "    .dataframe tbody tr th {\n",
       "        vertical-align: top;\n",
       "    }\n",
       "\n",
       "    .dataframe thead th {\n",
       "        text-align: right;\n",
       "    }\n",
       "</style>\n",
       "<table border=\"1\" class=\"dataframe\">\n",
       "  <thead>\n",
       "    <tr style=\"text-align: right;\">\n",
       "      <th></th>\n",
       "      <th>Embarked</th>\n",
       "    </tr>\n",
       "  </thead>\n",
       "  <tbody>\n",
       "    <tr>\n",
       "      <th>0</th>\n",
       "      <td>S</td>\n",
       "    </tr>\n",
       "  </tbody>\n",
       "</table>\n",
       "</div>"
      ],
      "text/plain": [
       "  Embarked\n",
       "0        S"
      ]
     },
     "execution_count": 71,
     "metadata": {},
     "output_type": "execute_result"
    }
   ],
   "source": [
    "df_titanic_raw[[\"Embarked\"]].mode()"
   ]
  },
  {
   "cell_type": "code",
   "execution_count": 72,
   "id": "c9b6a0f8",
   "metadata": {},
   "outputs": [],
   "source": [
    "df_titanic_raw[[\"Embarked\"]] = df_titanic_raw[[\"Embarked\"]].fillna(\"S\")"
   ]
  },
  {
   "cell_type": "code",
   "execution_count": 73,
   "id": "7826709c",
   "metadata": {},
   "outputs": [
    {
     "data": {
      "text/plain": [
       "PassengerId         0\n",
       "Survived            0\n",
       "PassengerClass      0\n",
       "Name                0\n",
       "Sex                 0\n",
       "Age                 0\n",
       "SibSp               0\n",
       "Parch               0\n",
       "Ticket              0\n",
       "Fare                0\n",
       "Cabin             687\n",
       "Embarked            0\n",
       "dtype: int64"
      ]
     },
     "execution_count": 73,
     "metadata": {},
     "output_type": "execute_result"
    }
   ],
   "source": [
    "df_titanic_raw.isnull().sum()"
   ]
  },
  {
   "cell_type": "markdown",
   "id": "5bfce92d",
   "metadata": {},
   "source": [
    "#### We cannot clean the null values in the Cabin columns as it's detail is specific to each passenger's ticket"
   ]
  },
  {
   "cell_type": "markdown",
   "id": "09f10b08",
   "metadata": {},
   "source": [
    "## Analysis"
   ]
  },
  {
   "cell_type": "markdown",
   "id": "f8023e44",
   "metadata": {},
   "source": [
    "#### What is number of survivors and survival rate by Sex?"
   ]
  },
  {
   "cell_type": "code",
   "execution_count": 74,
   "id": "40a74368",
   "metadata": {},
   "outputs": [
    {
     "data": {
      "text/html": [
       "<div>\n",
       "<style scoped>\n",
       "    .dataframe tbody tr th:only-of-type {\n",
       "        vertical-align: middle;\n",
       "    }\n",
       "\n",
       "    .dataframe tbody tr th {\n",
       "        vertical-align: top;\n",
       "    }\n",
       "\n",
       "    .dataframe thead th {\n",
       "        text-align: right;\n",
       "    }\n",
       "</style>\n",
       "<table border=\"1\" class=\"dataframe\">\n",
       "  <thead>\n",
       "    <tr style=\"text-align: right;\">\n",
       "      <th></th>\n",
       "      <th>Sex</th>\n",
       "      <th>survived</th>\n",
       "      <th>survival_rate</th>\n",
       "    </tr>\n",
       "  </thead>\n",
       "  <tbody>\n",
       "    <tr>\n",
       "      <th>0</th>\n",
       "      <td>female</td>\n",
       "      <td>233</td>\n",
       "      <td>0.742038</td>\n",
       "    </tr>\n",
       "    <tr>\n",
       "      <th>1</th>\n",
       "      <td>male</td>\n",
       "      <td>109</td>\n",
       "      <td>0.188908</td>\n",
       "    </tr>\n",
       "  </tbody>\n",
       "</table>\n",
       "</div>"
      ],
      "text/plain": [
       "      Sex  survived  survival_rate\n",
       "0  female       233       0.742038\n",
       "1    male       109       0.188908"
      ]
     },
     "execution_count": 74,
     "metadata": {},
     "output_type": "execute_result"
    }
   ],
   "source": [
    "df_titanic_raw.groupby(\"Sex\").agg(survived = (\"Survived\", 'sum')\n",
    "                                 ,survival_rate = (\"Survived\", 'mean')).reset_index()"
   ]
  },
  {
   "cell_type": "markdown",
   "id": "62a06535",
   "metadata": {},
   "source": [
    " *  We observe a higher survival rate in Females. This is excected as females were evacuated first."
   ]
  },
  {
   "cell_type": "markdown",
   "id": "269b7c9f",
   "metadata": {},
   "source": [
    "#### What is number of survivors by Age Group?"
   ]
  },
  {
   "cell_type": "code",
   "execution_count": 75,
   "id": "fcbd1e84",
   "metadata": {},
   "outputs": [],
   "source": [
    "### Creating Age Group Column\n",
    "df_titanic_raw[\"Age_Group\"] = np.where(np.floor(df_titanic_raw[\"Age\"]) < 13, \"12 or Less\", \n",
    "        np.where(np.floor(df_titanic_raw[\"Age\"]) <= 18, \"13 to 18\", \n",
    "                np.where(np.floor(df_titanic_raw[\"Age\"]) <= 25, \"19 to 25\",\n",
    "                        np.where(np.floor(df_titanic_raw[\"Age\"]) <= 35, \"26 to 35\",\n",
    "                                np.where(np.floor(df_titanic_raw[\"Age\"]) <= 45, \"36 to 45\",\n",
    "                                        np.where(np.floor(df_titanic_raw[\"Age\"]) <= 55, \"46 to 55\", \"56 or Above\" ))))))"
   ]
  },
  {
   "cell_type": "code",
   "execution_count": 76,
   "id": "6956f6d7",
   "metadata": {},
   "outputs": [],
   "source": [
    "#df_titanic_raw[[\"Age_Group\", \"Age\"]].drop_duplicates().sort_values(\"Age\")"
   ]
  },
  {
   "cell_type": "code",
   "execution_count": null,
   "id": "6da11db1",
   "metadata": {},
   "outputs": [],
   "source": []
  },
  {
   "cell_type": "code",
   "execution_count": 77,
   "id": "14e81063",
   "metadata": {},
   "outputs": [
    {
     "data": {
      "text/html": [
       "<div>\n",
       "<style scoped>\n",
       "    .dataframe tbody tr th:only-of-type {\n",
       "        vertical-align: middle;\n",
       "    }\n",
       "\n",
       "    .dataframe tbody tr th {\n",
       "        vertical-align: top;\n",
       "    }\n",
       "\n",
       "    .dataframe thead th {\n",
       "        text-align: right;\n",
       "    }\n",
       "</style>\n",
       "<table border=\"1\" class=\"dataframe\">\n",
       "  <thead>\n",
       "    <tr style=\"text-align: right;\">\n",
       "      <th></th>\n",
       "      <th>Age_Group</th>\n",
       "      <th>survived</th>\n",
       "      <th>survivor_rate</th>\n",
       "    </tr>\n",
       "  </thead>\n",
       "  <tbody>\n",
       "    <tr>\n",
       "      <th>0</th>\n",
       "      <td>12 or Less</td>\n",
       "      <td>40</td>\n",
       "      <td>0.579710</td>\n",
       "    </tr>\n",
       "    <tr>\n",
       "      <th>1</th>\n",
       "      <td>13 to 18</td>\n",
       "      <td>30</td>\n",
       "      <td>0.428571</td>\n",
       "    </tr>\n",
       "    <tr>\n",
       "      <th>2</th>\n",
       "      <td>19 to 25</td>\n",
       "      <td>79</td>\n",
       "      <td>0.387255</td>\n",
       "    </tr>\n",
       "    <tr>\n",
       "      <th>3</th>\n",
       "      <td>26 to 35</td>\n",
       "      <td>105</td>\n",
       "      <td>0.338710</td>\n",
       "    </tr>\n",
       "    <tr>\n",
       "      <th>4</th>\n",
       "      <td>36 to 45</td>\n",
       "      <td>50</td>\n",
       "      <td>0.364964</td>\n",
       "    </tr>\n",
       "    <tr>\n",
       "      <th>5</th>\n",
       "      <td>46 to 55</td>\n",
       "      <td>26</td>\n",
       "      <td>0.419355</td>\n",
       "    </tr>\n",
       "    <tr>\n",
       "      <th>6</th>\n",
       "      <td>56 or Above</td>\n",
       "      <td>12</td>\n",
       "      <td>0.307692</td>\n",
       "    </tr>\n",
       "  </tbody>\n",
       "</table>\n",
       "</div>"
      ],
      "text/plain": [
       "     Age_Group  survived  survivor_rate\n",
       "0   12 or Less        40       0.579710\n",
       "1     13 to 18        30       0.428571\n",
       "2     19 to 25        79       0.387255\n",
       "3     26 to 35       105       0.338710\n",
       "4     36 to 45        50       0.364964\n",
       "5     46 to 55        26       0.419355\n",
       "6  56 or Above        12       0.307692"
      ]
     },
     "execution_count": 77,
     "metadata": {},
     "output_type": "execute_result"
    }
   ],
   "source": [
    "df_titanic_raw.groupby([\"Age_Group\"]).agg(survived = (\"Survived\", 'sum')\n",
    "                                 ,survivor_rate = (\"Survived\", 'mean')).reset_index()"
   ]
  },
  {
   "cell_type": "markdown",
   "id": "8ad5b972",
   "metadata": {},
   "source": [
    " *  We observe a higher survival rate for Children. Again, this is excected as children would have been given priority while evacuation.\n",
    "\n",
    " *    We also notice that survival rate is least in oldest age group. This is probably due to harsh weather conditions."
   ]
  },
  {
   "cell_type": "code",
   "execution_count": null,
   "id": "0c19b12c",
   "metadata": {},
   "outputs": [],
   "source": []
  }
 ],
 "metadata": {
  "kernelspec": {
   "display_name": "Python 3 (ipykernel)",
   "language": "python",
   "name": "python3"
  },
  "language_info": {
   "codemirror_mode": {
    "name": "ipython",
    "version": 3
   },
   "file_extension": ".py",
   "mimetype": "text/x-python",
   "name": "python",
   "nbconvert_exporter": "python",
   "pygments_lexer": "ipython3",
   "version": "3.9.10"
  }
 },
 "nbformat": 4,
 "nbformat_minor": 5
}
